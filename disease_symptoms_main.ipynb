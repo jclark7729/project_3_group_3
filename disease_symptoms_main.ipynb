{
 "cells": [
  {
   "cell_type": "markdown",
   "id": "df4ce4b8-1d66-491f-8b96-6c21891ef30b",
   "metadata": {},
   "source": [
    "# Disease Prediction and Care Suggestion Model"
   ]
  },
  {
   "cell_type": "markdown",
   "id": "671cf63d-b27c-4103-a18e-1d120108ee68",
   "metadata": {},
   "source": [
    "## Data Loading and Preprocessing"
   ]
  },
  {
   "cell_type": "code",
   "execution_count": 1,
   "id": "b503b675-40a9-4d22-b0cc-8aa740426997",
   "metadata": {},
   "outputs": [
    {
     "data": {
      "text/html": [
       "<div>\n",
       "<style scoped>\n",
       "    .dataframe tbody tr th:only-of-type {\n",
       "        vertical-align: middle;\n",
       "    }\n",
       "\n",
       "    .dataframe tbody tr th {\n",
       "        vertical-align: top;\n",
       "    }\n",
       "\n",
       "    .dataframe thead th {\n",
       "        text-align: right;\n",
       "    }\n",
       "</style>\n",
       "<table border=\"1\" class=\"dataframe\">\n",
       "  <thead>\n",
       "    <tr style=\"text-align: right;\">\n",
       "      <th></th>\n",
       "      <th>Disease</th>\n",
       "      <th>Symptom_1</th>\n",
       "      <th>Symptom_2</th>\n",
       "      <th>Symptom_3</th>\n",
       "      <th>Symptom_4</th>\n",
       "      <th>Symptom_5</th>\n",
       "      <th>Symptom_6</th>\n",
       "      <th>Symptom_7</th>\n",
       "      <th>Symptom_8</th>\n",
       "      <th>Symptom_9</th>\n",
       "      <th>Symptom_1.1</th>\n",
       "      <th>Symptom_11</th>\n",
       "      <th>Symptom_12</th>\n",
       "      <th>Symptom_13</th>\n",
       "      <th>Symptom_14</th>\n",
       "      <th>Symptom_15</th>\n",
       "      <th>Symptom_16</th>\n",
       "      <th>Symptom_17</th>\n",
       "    </tr>\n",
       "  </thead>\n",
       "  <tbody>\n",
       "    <tr>\n",
       "      <th>4379</th>\n",
       "      <td>Hypoglycemia</td>\n",
       "      <td>vomiting</td>\n",
       "      <td>fatigue</td>\n",
       "      <td>anxiety</td>\n",
       "      <td>sweating</td>\n",
       "      <td>headache</td>\n",
       "      <td>nausea</td>\n",
       "      <td>blurred_and_distorted_vision</td>\n",
       "      <td>excessive_hunger</td>\n",
       "      <td>drying_and_tingling_lips</td>\n",
       "      <td>slurred_speech</td>\n",
       "      <td>irritability</td>\n",
       "      <td>palpitations</td>\n",
       "      <td>NaN</td>\n",
       "      <td>NaN</td>\n",
       "      <td>NaN</td>\n",
       "      <td>NaN</td>\n",
       "      <td>NaN</td>\n",
       "    </tr>\n",
       "    <tr>\n",
       "      <th>393</th>\n",
       "      <td>Psoriasis</td>\n",
       "      <td>skin_rash</td>\n",
       "      <td>skin_peeling</td>\n",
       "      <td>silver_like_dusting</td>\n",
       "      <td>small_dents_in_nails</td>\n",
       "      <td>inflammatory_nails</td>\n",
       "      <td>NaN</td>\n",
       "      <td>NaN</td>\n",
       "      <td>NaN</td>\n",
       "      <td>NaN</td>\n",
       "      <td>NaN</td>\n",
       "      <td>NaN</td>\n",
       "      <td>NaN</td>\n",
       "      <td>NaN</td>\n",
       "      <td>NaN</td>\n",
       "      <td>NaN</td>\n",
       "      <td>NaN</td>\n",
       "      <td>NaN</td>\n",
       "    </tr>\n",
       "    <tr>\n",
       "      <th>1164</th>\n",
       "      <td>Osteoarthritis</td>\n",
       "      <td>joint_pain</td>\n",
       "      <td>neck_pain</td>\n",
       "      <td>hip_joint_pain</td>\n",
       "      <td>swelling_joints</td>\n",
       "      <td>NaN</td>\n",
       "      <td>NaN</td>\n",
       "      <td>NaN</td>\n",
       "      <td>NaN</td>\n",
       "      <td>NaN</td>\n",
       "      <td>NaN</td>\n",
       "      <td>NaN</td>\n",
       "      <td>NaN</td>\n",
       "      <td>NaN</td>\n",
       "      <td>NaN</td>\n",
       "      <td>NaN</td>\n",
       "      <td>NaN</td>\n",
       "      <td>NaN</td>\n",
       "    </tr>\n",
       "    <tr>\n",
       "      <th>4478</th>\n",
       "      <td>Bronchial Asthma</td>\n",
       "      <td>fatigue</td>\n",
       "      <td>cough</td>\n",
       "      <td>high_fever</td>\n",
       "      <td>breathlessness</td>\n",
       "      <td>family_history</td>\n",
       "      <td>mucoid_sputum</td>\n",
       "      <td>NaN</td>\n",
       "      <td>NaN</td>\n",
       "      <td>NaN</td>\n",
       "      <td>NaN</td>\n",
       "      <td>NaN</td>\n",
       "      <td>NaN</td>\n",
       "      <td>NaN</td>\n",
       "      <td>NaN</td>\n",
       "      <td>NaN</td>\n",
       "      <td>NaN</td>\n",
       "      <td>NaN</td>\n",
       "    </tr>\n",
       "    <tr>\n",
       "      <th>731</th>\n",
       "      <td>Hyperthyroidism</td>\n",
       "      <td>fatigue</td>\n",
       "      <td>mood_swings</td>\n",
       "      <td>weight_loss</td>\n",
       "      <td>restlessness</td>\n",
       "      <td>sweating</td>\n",
       "      <td>diarrhoea</td>\n",
       "      <td>fast_heart_rate</td>\n",
       "      <td>excessive_hunger</td>\n",
       "      <td>muscle_weakness</td>\n",
       "      <td>irritability</td>\n",
       "      <td>abnormal_menstruation</td>\n",
       "      <td>NaN</td>\n",
       "      <td>NaN</td>\n",
       "      <td>NaN</td>\n",
       "      <td>NaN</td>\n",
       "      <td>NaN</td>\n",
       "      <td>NaN</td>\n",
       "    </tr>\n",
       "  </tbody>\n",
       "</table>\n",
       "</div>"
      ],
      "text/plain": [
       "               Disease   Symptom_1     Symptom_2            Symptom_3  \\\n",
       "4379      Hypoglycemia    vomiting       fatigue              anxiety   \n",
       "393          Psoriasis   skin_rash  skin_peeling  silver_like_dusting   \n",
       "1164    Osteoarthritis  joint_pain     neck_pain       hip_joint_pain   \n",
       "4478  Bronchial Asthma     fatigue         cough           high_fever   \n",
       "731    Hyperthyroidism     fatigue   mood_swings          weight_loss   \n",
       "\n",
       "                 Symptom_4           Symptom_5      Symptom_6  \\\n",
       "4379              sweating            headache         nausea   \n",
       "393   small_dents_in_nails  inflammatory_nails            NaN   \n",
       "1164       swelling_joints                 NaN            NaN   \n",
       "4478        breathlessness      family_history  mucoid_sputum   \n",
       "731           restlessness            sweating      diarrhoea   \n",
       "\n",
       "                         Symptom_7         Symptom_8  \\\n",
       "4379  blurred_and_distorted_vision  excessive_hunger   \n",
       "393                            NaN               NaN   \n",
       "1164                           NaN               NaN   \n",
       "4478                           NaN               NaN   \n",
       "731                fast_heart_rate  excessive_hunger   \n",
       "\n",
       "                     Symptom_9     Symptom_1.1             Symptom_11  \\\n",
       "4379  drying_and_tingling_lips  slurred_speech           irritability   \n",
       "393                        NaN             NaN                    NaN   \n",
       "1164                       NaN             NaN                    NaN   \n",
       "4478                       NaN             NaN                    NaN   \n",
       "731            muscle_weakness    irritability  abnormal_menstruation   \n",
       "\n",
       "        Symptom_12 Symptom_13 Symptom_14 Symptom_15 Symptom_16 Symptom_17  \n",
       "4379  palpitations        NaN        NaN        NaN        NaN        NaN  \n",
       "393            NaN        NaN        NaN        NaN        NaN        NaN  \n",
       "1164           NaN        NaN        NaN        NaN        NaN        NaN  \n",
       "4478           NaN        NaN        NaN        NaN        NaN        NaN  \n",
       "731            NaN        NaN        NaN        NaN        NaN        NaN  "
      ]
     },
     "execution_count": 1,
     "metadata": {},
     "output_type": "execute_result"
    }
   ],
   "source": [
    "import pandas as pd\n",
    "from sklearn.utils import shuffle\n",
    "\n",
    "# Load the dataset\n",
    "df = pd.read_csv('disease_symptoms.csv')\n",
    "\n",
    "# Shuffle the dataset\n",
    "df = shuffle(df, random_state=42)\n",
    "\n",
    "# Display the first few rows of the dataset\n",
    "df.head()\n"
   ]
  },
  {
   "cell_type": "code",
   "execution_count": 2,
   "id": "0826c170-4241-41d9-a3f5-c04d68c6c488",
   "metadata": {},
   "outputs": [
    {
     "data": {
      "text/html": [
       "<div>\n",
       "<style scoped>\n",
       "    .dataframe tbody tr th:only-of-type {\n",
       "        vertical-align: middle;\n",
       "    }\n",
       "\n",
       "    .dataframe tbody tr th {\n",
       "        vertical-align: top;\n",
       "    }\n",
       "\n",
       "    .dataframe thead th {\n",
       "        text-align: right;\n",
       "    }\n",
       "</style>\n",
       "<table border=\"1\" class=\"dataframe\">\n",
       "  <thead>\n",
       "    <tr style=\"text-align: right;\">\n",
       "      <th></th>\n",
       "      <th>Disease</th>\n",
       "      <th>Symptom_1</th>\n",
       "      <th>Symptom_2</th>\n",
       "      <th>Symptom_3</th>\n",
       "      <th>Symptom_4</th>\n",
       "      <th>Symptom_5</th>\n",
       "      <th>Symptom_6</th>\n",
       "      <th>Symptom_7</th>\n",
       "      <th>Symptom_8</th>\n",
       "      <th>Symptom_9</th>\n",
       "      <th>Symptom_1.1</th>\n",
       "      <th>Symptom_11</th>\n",
       "      <th>Symptom_12</th>\n",
       "      <th>Symptom_13</th>\n",
       "      <th>Symptom_14</th>\n",
       "      <th>Symptom_15</th>\n",
       "      <th>Symptom_16</th>\n",
       "      <th>Symptom_17</th>\n",
       "    </tr>\n",
       "  </thead>\n",
       "  <tbody>\n",
       "    <tr>\n",
       "      <th>4379</th>\n",
       "      <td>Hypoglycemia</td>\n",
       "      <td>vomiting</td>\n",
       "      <td>fatigue</td>\n",
       "      <td>anxiety</td>\n",
       "      <td>sweating</td>\n",
       "      <td>headache</td>\n",
       "      <td>nausea</td>\n",
       "      <td>blurred and distorted vision</td>\n",
       "      <td>excessive hunger</td>\n",
       "      <td>drying and tingling lips</td>\n",
       "      <td>slurred speech</td>\n",
       "      <td>irritability</td>\n",
       "      <td>palpitations</td>\n",
       "      <td>0</td>\n",
       "      <td>0</td>\n",
       "      <td>0</td>\n",
       "      <td>0</td>\n",
       "      <td>0</td>\n",
       "    </tr>\n",
       "    <tr>\n",
       "      <th>393</th>\n",
       "      <td>Psoriasis</td>\n",
       "      <td>skin rash</td>\n",
       "      <td>skin peeling</td>\n",
       "      <td>silver like dusting</td>\n",
       "      <td>small dents in nails</td>\n",
       "      <td>inflammatory nails</td>\n",
       "      <td>0</td>\n",
       "      <td>0</td>\n",
       "      <td>0</td>\n",
       "      <td>0</td>\n",
       "      <td>0</td>\n",
       "      <td>0</td>\n",
       "      <td>0</td>\n",
       "      <td>0</td>\n",
       "      <td>0</td>\n",
       "      <td>0</td>\n",
       "      <td>0</td>\n",
       "      <td>0</td>\n",
       "    </tr>\n",
       "    <tr>\n",
       "      <th>1164</th>\n",
       "      <td>Osteoarthritis</td>\n",
       "      <td>joint pain</td>\n",
       "      <td>neck pain</td>\n",
       "      <td>hip joint pain</td>\n",
       "      <td>swelling joints</td>\n",
       "      <td>0</td>\n",
       "      <td>0</td>\n",
       "      <td>0</td>\n",
       "      <td>0</td>\n",
       "      <td>0</td>\n",
       "      <td>0</td>\n",
       "      <td>0</td>\n",
       "      <td>0</td>\n",
       "      <td>0</td>\n",
       "      <td>0</td>\n",
       "      <td>0</td>\n",
       "      <td>0</td>\n",
       "      <td>0</td>\n",
       "    </tr>\n",
       "    <tr>\n",
       "      <th>4478</th>\n",
       "      <td>Bronchial Asthma</td>\n",
       "      <td>fatigue</td>\n",
       "      <td>cough</td>\n",
       "      <td>high fever</td>\n",
       "      <td>breathlessness</td>\n",
       "      <td>family history</td>\n",
       "      <td>mucoid sputum</td>\n",
       "      <td>0</td>\n",
       "      <td>0</td>\n",
       "      <td>0</td>\n",
       "      <td>0</td>\n",
       "      <td>0</td>\n",
       "      <td>0</td>\n",
       "      <td>0</td>\n",
       "      <td>0</td>\n",
       "      <td>0</td>\n",
       "      <td>0</td>\n",
       "      <td>0</td>\n",
       "    </tr>\n",
       "    <tr>\n",
       "      <th>731</th>\n",
       "      <td>Hyperthyroidism</td>\n",
       "      <td>fatigue</td>\n",
       "      <td>mood swings</td>\n",
       "      <td>weight loss</td>\n",
       "      <td>restlessness</td>\n",
       "      <td>sweating</td>\n",
       "      <td>diarrhoea</td>\n",
       "      <td>fast heart rate</td>\n",
       "      <td>excessive hunger</td>\n",
       "      <td>muscle weakness</td>\n",
       "      <td>irritability</td>\n",
       "      <td>abnormal menstruation</td>\n",
       "      <td>0</td>\n",
       "      <td>0</td>\n",
       "      <td>0</td>\n",
       "      <td>0</td>\n",
       "      <td>0</td>\n",
       "      <td>0</td>\n",
       "    </tr>\n",
       "  </tbody>\n",
       "</table>\n",
       "</div>"
      ],
      "text/plain": [
       "               Disease   Symptom_1     Symptom_2            Symptom_3  \\\n",
       "4379      Hypoglycemia    vomiting       fatigue              anxiety   \n",
       "393          Psoriasis   skin rash  skin peeling  silver like dusting   \n",
       "1164    Osteoarthritis  joint pain     neck pain       hip joint pain   \n",
       "4478  Bronchial Asthma     fatigue         cough           high fever   \n",
       "731    Hyperthyroidism     fatigue   mood swings          weight loss   \n",
       "\n",
       "                 Symptom_4           Symptom_5      Symptom_6  \\\n",
       "4379              sweating            headache         nausea   \n",
       "393   small dents in nails  inflammatory nails              0   \n",
       "1164       swelling joints                   0              0   \n",
       "4478        breathlessness      family history  mucoid sputum   \n",
       "731           restlessness            sweating      diarrhoea   \n",
       "\n",
       "                         Symptom_7         Symptom_8  \\\n",
       "4379  blurred and distorted vision  excessive hunger   \n",
       "393                              0                 0   \n",
       "1164                             0                 0   \n",
       "4478                             0                 0   \n",
       "731                fast heart rate  excessive hunger   \n",
       "\n",
       "                     Symptom_9     Symptom_1.1             Symptom_11  \\\n",
       "4379  drying and tingling lips  slurred speech           irritability   \n",
       "393                          0               0                      0   \n",
       "1164                         0               0                      0   \n",
       "4478                         0               0                      0   \n",
       "731            muscle weakness    irritability  abnormal menstruation   \n",
       "\n",
       "        Symptom_12 Symptom_13 Symptom_14 Symptom_15 Symptom_16 Symptom_17  \n",
       "4379  palpitations          0          0          0          0          0  \n",
       "393              0          0          0          0          0          0  \n",
       "1164             0          0          0          0          0          0  \n",
       "4478             0          0          0          0          0          0  \n",
       "731              0          0          0          0          0          0  "
      ]
     },
     "execution_count": 2,
     "metadata": {},
     "output_type": "execute_result"
    }
   ],
   "source": [
    "# Replace hyphens with spaces in the symptom columns\n",
    "for col in df.columns[1:]:\n",
    "    df[col] = df[col].str.replace('_', ' ')\n",
    "\n",
    "# Strip any leading or trailing spaces from the symptom strings\n",
    "df = df.apply(lambda x: x.str.strip() if x.dtype == \"object\" else x)\n",
    "\n",
    "# Replace NaN values with 0\n",
    "df = df.fillna(0)\n",
    "\n",
    "# Display the cleaned dataset\n",
    "df.head()\n"
   ]
  },
  {
   "cell_type": "markdown",
   "id": "64265a55-38e1-433c-8863-f3a335d46843",
   "metadata": {},
   "source": [
    "## Exploratory Data Analysis (EDA)"
   ]
  },
  {
   "cell_type": "markdown",
   "id": "82c8b7b0-2887-47e9-a328-44aa7a47e513",
   "metadata": {},
   "source": [
    "#### Distribution of Diseases:"
   ]
  },
  {
   "cell_type": "code",
   "execution_count": 3,
   "id": "1a35c364-fb53-4d51-a3c9-ab20c45fb78f",
   "metadata": {},
   "outputs": [],
   "source": [
    "import matplotlib.pyplot as plt"
   ]
  },
  {
   "cell_type": "code",
   "execution_count": 4,
   "id": "4d73e8fc",
   "metadata": {},
   "outputs": [
    {
     "data": {
      "text/plain": [
       "(4961, 18)"
      ]
     },
     "execution_count": 4,
     "metadata": {},
     "output_type": "execute_result"
    }
   ],
   "source": [
    "df.shape"
   ]
  },
  {
   "cell_type": "code",
   "execution_count": 5,
   "id": "c7bac92e",
   "metadata": {},
   "outputs": [
    {
     "name": "stdout",
     "output_type": "stream",
     "text": [
      "<class 'pandas.core.frame.DataFrame'>\n",
      "Index: 4961 entries, 4379 to 860\n",
      "Data columns (total 18 columns):\n",
      " #   Column       Non-Null Count  Dtype \n",
      "---  ------       --------------  ----- \n",
      " 0   Disease      4961 non-null   object\n",
      " 1   Symptom_1    4961 non-null   object\n",
      " 2   Symptom_2    4961 non-null   object\n",
      " 3   Symptom_3    4961 non-null   object\n",
      " 4   Symptom_4    4961 non-null   object\n",
      " 5   Symptom_5    4961 non-null   object\n",
      " 6   Symptom_6    4961 non-null   object\n",
      " 7   Symptom_7    4961 non-null   object\n",
      " 8   Symptom_8    4961 non-null   object\n",
      " 9   Symptom_9    4961 non-null   object\n",
      " 10  Symptom_1.1  4961 non-null   object\n",
      " 11  Symptom_11   4961 non-null   object\n",
      " 12  Symptom_12   4961 non-null   object\n",
      " 13  Symptom_13   4961 non-null   object\n",
      " 14  Symptom_14   4961 non-null   object\n",
      " 15  Symptom_15   4961 non-null   object\n",
      " 16  Symptom_16   4961 non-null   object\n",
      " 17  Symptom_17   4961 non-null   object\n",
      "dtypes: object(18)\n",
      "memory usage: 736.4+ KB\n"
     ]
    }
   ],
   "source": [
    "df.info()"
   ]
  },
  {
   "cell_type": "code",
   "execution_count": 6,
   "id": "e1a95f80-fc1d-4065-9748-f102c67aff99",
   "metadata": {},
   "outputs": [
    {
     "data": {
      "image/png": "[encoded data removed]",
      "text/plain": [
       "<Figure size 1000x500 with 1 Axes>"
      ]
     },
     "metadata": {},
     "output_type": "display_data"
    }
   ],
   "source": [
    "# Count the number of occurrences for each disease\n",
    "disease_distribution = df['Disease'].value_counts()\n",
    "\n",
    "# Plot the distribution of diseases\n",
    "plt.figure(figsize=(10, 5))\n",
    "disease_distribution.plot(kind='bar')\n",
    "plt.title(\"Distribution of Diseases\")\n",
    "plt.xlabel(\"Disease\")\n",
    "plt.ylabel(\"Number of Instances\")\n",
    "\n",
    "# Annotate each bar with the number of instances\n",
    "for index, value in enumerate(disease_distribution):\n",
    "    plt.text(index, value + 0.1, str(value), ha='center')\n",
    "\n",
    "plt.show()"
   ]
  },
  {
   "cell_type": "markdown",
   "id": "0f1726f3-3d16-4ce4-bd54-6e1be614d5f2",
   "metadata": {},
   "source": [
    "#### Distribution of Symptoms:"
   ]
  },
  {
   "cell_type": "code",
   "execution_count": 7,
   "id": "28fb2fbd-2886-4da7-b3b1-80d5c810f994",
   "metadata": {},
   "outputs": [
    {
     "data": {
      "application/vnd.plotly.v1+json": {
       "config": {
        "plotlyServerURL": "https://plot.ly"
       },
       "data": [
        {
         "customdata": [
          [
           1949
          ],
          [
           1931
          ],
          [
           1374
          ],
          [
           1162
          ],
          [
           1156
          ],
          [
           1144
          ],
          [
           1041
          ],
          [
           920
          ],
          [
           823
          ],
          [
           805
          ],
          [
           793
          ],
          [
           708
          ],
          [
           702
          ],
          [
           690
          ],
          [
           684
          ],
          [
           684
          ],
          [
           575
          ],
          [
           569
          ],
          [
           569
          ],
          [
           478
          ],
          [
           478
          ],
          [
           466
          ],
          [
           460
          ],
          [
           460
          ],
          [
           454
          ],
          [
           357
          ],
          [
           357
          ],
          [
           351
          ],
          [
           345
          ],
          [
           345
          ],
          [
           339
          ],
          [
           242
          ],
          [
           236
          ],
          [
           236
          ],
          [
           236
          ],
          [
           236
          ],
          [
           230
          ],
          [
           230
          ],
          [
           230
          ],
          [
           230
          ],
          [
           230
          ],
          [
           230
          ],
          [
           230
          ],
          [
           230
          ],
          [
           230
          ],
          [
           224
          ],
          [
           224
          ],
          [
           224
          ],
          [
           224
          ],
          [
           218
          ],
          [
           212
          ],
          [
           121
          ],
          [
           121
          ],
          [
           121
          ],
          [
           121
          ],
          [
           121
          ],
          [
           121
          ],
          [
           121
          ],
          [
           121
          ],
          [
           121
          ],
          [
           121
          ],
          [
           121
          ],
          [
           121
          ],
          [
           121
          ],
          [
           121
          ],
          [
           121
          ],
          [
           121
          ],
          [
           121
          ],
          [
           121
          ],
          [
           121
          ],
          [
           121
          ],
          [
           115
          ],
          [
           115
          ],
          [
           115
          ],
          [
           115
          ],
          [
           115
          ],
          [
           115
          ],
          [
           115
          ],
          [
           115
          ],
          [
           115
          ],
          [
           115
          ],
          [
           115
          ],
          [
           115
          ],
          [
           115
          ],
          [
           115
          ],
          [
           115
          ],
          [
           115
          ],
          [
           115
          ],
          [
           115
          ],
          [
           115
          ],
          [
           115
          ],
          [
           115
          ],
          [
           115
          ],
          [
           115
          ],
          [
           115
          ],
          [
           115
          ],
          [
           115
          ],
          [
           115
          ],
          [
           115
          ],
          [
           115
          ],
          [
           115
          ],
          [
           115
          ],
          [
           115
          ],
          [
           115
          ],
          [
           115
          ],
          [
           115
          ],
          [
           115
          ],
          [
           115
          ],
          [
           115
          ],
          [
           115
          ],
          [
           114
          ],
          [
           112
          ],
          [
           109
          ],
          [
           109
          ],
          [
           109
          ],
          [
           109
          ],
          [
           109
          ],
          [
           109
          ],
          [
           109
          ],
          [
           109
          ],
          [
           109
          ],
          [
           109
          ],
          [
           109
          ],
          [
           109
          ],
          [
           109
          ],
          [
           109
          ],
          [
           109
          ],
          [
           109
          ],
          [
           109
          ],
          [
           109
          ],
          [
           103
          ]
         ],
         "domain": {
          "x": [
           0,
           1
          ],
          "y": [
           0,
           1
          ]
         },
         "hovertemplate": "Symptoms=%{label}<br>Number of Instances=%{customdata[0]}<extra></extra>",
         "labels": [
          "fatigue",
          "vomiting",
          "high_fever",
          "loss_of_appetite",
          "nausea",
          "headache",
          "abdominal_pain",
          "yellowish_skin",
          "yellowing_of_eyes",
          "chills",
          "skin_rash",
          "malaise",
          "chest_pain",
          "joint_pain",
          "sweating",
          "itching",
          "dark_urine",
          "diarrhoea",
          "cough",
          "muscle_pain",
          "irritability",
          "excessive_hunger",
          "lethargy",
          "weight_loss",
          "breathlessness",
          "phlegm",
          "mild_fever",
          "swelled_lymph_nodes",
          "loss_of_balance",
          "blurred_and_distorted_vision",
          "dizziness",
          "abnormal_menstruation",
          "muscle_weakness",
          "depression",
          "fast_heart_rate",
          "red_spots_over_body",
          "swelling_joints",
          "family_history",
          "obesity",
          "mood_swings",
          "constipation",
          "neck_pain",
          "back_pain",
          "stiff_neck",
          "restlessness",
          "indigestion",
          "acidity",
          "stomach_pain",
          "continuous_sneezing",
          "burning_micturition",
          "painful_walking",
          "swollen_extremeties",
          "increased_appetite",
          "brittle_nails",
          "polyuria",
          "pain_behind_the_eyes",
          "throat_irritation",
          "enlarged_thyroid",
          "loss_of_smell",
          "slurred_speech",
          "congestion",
          "stomach_bleeding",
          "palpitations",
          "sinus_pressure",
          "coma",
          "receiving_unsterile_injections",
          "rusty_sputum",
          "redness_of_eyes",
          "blood_in_sputum",
          "receiving_blood_transfusion",
          "runny_nose",
          "prominent_veins_on_calf",
          "inflammatory_nails",
          "unsteadiness",
          "history_of_alcohol_consumption",
          "fluid_overload_1",
          "yellow_urine",
          "puffy_face_and_eyes",
          "belly_pain",
          "visual_disturbances",
          "drying_and_tingling_lips",
          "acute_liver_failure",
          "toxic_look_(typhos)",
          "internal_itching",
          "mucoid_sputum",
          "yellow_crust_ooze",
          "hip_joint_pain",
          "passage_of_gases",
          "altered_sensorium",
          "swelling_of_stomach",
          "bloody_stool",
          "weight_gain",
          "small_dents_in_nails",
          "movement_stiffness",
          "knee_pain",
          "anxiety",
          "continuous_feel_of_urine",
          "silver_like_dusting",
          "red_sore_around_nose",
          "cold_hands_and_feets",
          "bruising",
          "bladder_discomfort",
          "irregular_sugar_level",
          "cramps",
          "pain_in_anal_region",
          "lack_of_concentration",
          "distention_of_abdomen",
          "irritation_in_anus",
          "swollen_legs",
          "blister",
          "pain_during_bowel_movements",
          "skin_peeling",
          "dischromic _patches",
          "nodal_skin_eruptions",
          "ulcers_on_tongue",
          "blackheads",
          "weakness_of_one_body_side",
          "watering_from_eyes",
          "shivering",
          "extra_marital_contacts",
          "pus_filled_pimples",
          "spinning_movements",
          "scurring",
          "spotting_ urination",
          "muscle_wasting",
          "patches_in_throat",
          "sunken_eyes",
          "weakness_in_limbs",
          "swollen_blood_vessels",
          "dehydration",
          "foul_smell_of urine"
         ],
         "legendgroup": "",
         "name": "",
         "showlegend": true,
         "textinfo": "percent+label",
         "textposition": "inside",
         "type": "pie",
         "values": [
          1949,
          1931,
          1374,
          1162,
          1156,
          1144,
          1041,
          920,
          823,
          805,
          793,
          708,
          702,
          690,
          684,
          684,
          575,
          569,
          569,
          478,
          478,
          466,
          460,
          460,
          454,
          357,
          357,
          351,
          345,
          345,
          339,
          242,
          236,
          236,
          236,
          236,
          230,
          230,
          230,
          230,
          230,
          230,
          230,
          230,
          230,
          224,
          224,
          224,
          224,
          218,
          212,
          121,
          121,
          121,
          121,
          121,
          121,
          121,
          121,
          121,
          121,
          121,
          121,
          121,
          121,
          121,
          121,
          121,
          121,
          121,
          121,
          115,
          115,
          115,
          115,
          115,
          115,
          115,
          115,
          115,
          115,
          115,
          115,
          115,
          115,
          115,
          115,
          115,
          115,
          115,
          115,
          115,
          115,
          115,
          115,
          115,
          115,
          115,
          115,
          115,
          115,
          115,
          115,
          115,
          115,
          115,
          115,
          115,
          115,
          115,
          114,
          112,
          109,
          109,
          109,
          109,
          109,
          109,
          109,
          109,
          109,
          109,
          109,
          109,
          109,
          109,
          109,
          109,
          109,
          109,
          103
         ]
        }
       ],
       "layout": {
        "height": 600,
        "legend": {
         "tracegroupgap": 0
        },
        "margin": {
         "b": 40,
         "l": 40,
         "r": 40,
         "t": 40
        },
        "template": {
         "data": {
          "bar": [
           {
            "error_x": {
             "color": "#2a3f5f"
            },
            "error_y": {
             "color": "#2a3f5f"
            },
            "marker": {
             "line": {
              "color": "#E5ECF6",
              "width": 0.5
             },
             "pattern": {
              "fillmode": "overlay",
              "size": 10,
              "solidity": 0.2
             }
            },
            "type": "bar"
           }
          ],
          "barpolar": [
           {
            "marker": {
             "line": {
              "color": "#E5ECF6",
              "width": 0.5
             },
             "pattern": {
              "fillmode": "overlay",
              "size": 10,
              "solidity": 0.2
             }
            },
            "type": "barpolar"
           }
          ],
          "carpet": [
           {
            "aaxis": {
             "endlinecolor": "#2a3f5f",
             "gridcolor": "white",
             "linecolor": "white",
             "minorgridcolor": "white",
             "startlinecolor": "#2a3f5f"
            },
            "baxis": {
             "endlinecolor": "#2a3f5f",
             "gridcolor": "white",
             "linecolor": "white",
             "minorgridcolor": "white",
             "startlinecolor": "#2a3f5f"
            },
            "type": "carpet"
           }
          ],
          "choropleth": [
           {
            "colorbar": {
             "outlinewidth": 0,
             "ticks": ""
            },
            "type": "choropleth"
           }
          ],
          "contour": [
           {
            "colorbar": {
             "outlinewidth": 0,
             "ticks": ""
            },
            "colorscale": [
             [
              0,
              "#0d0887"
             ],
             [
              0.1111111111111111,
              "#46039f"
             ],
             [
              0.2222222222222222,
              "#7201a8"
             ],
             [
              0.3333333333333333,
              "#9c179e"
             ],
             [
              0.4444444444444444,
              "#bd3786"
             ],
             [
              0.5555555555555556,
              "#d8576b"
             ],
             [
              0.6666666666666666,
              "#ed7953"
             ],
             [
              0.7777777777777778,
              "#fb9f3a"
             ],
             [
              0.8888888888888888,
              "#fdca26"
             ],
             [
              1,
              "#f0f921"
             ]
            ],
            "type": "contour"
           }
          ],
          "contourcarpet": [
           {
            "colorbar": {
             "outlinewidth": 0,
             "ticks": ""
            },
            "type": "contourcarpet"
           }
          ],
          "heatmap": [
           {
            "colorbar": {
             "outlinewidth": 0,
             "ticks": ""
            },
            "colorscale": [
             [
              0,
              "#0d0887"
             ],
             [
              0.1111111111111111,
              "#46039f"
             ],
             [
              0.2222222222222222,
              "#7201a8"
             ],
             [
              0.3333333333333333,
              "#9c179e"
             ],
             [
              0.4444444444444444,
              "#bd3786"
             ],
             [
              0.5555555555555556,
              "#d8576b"
             ],
             [
              0.6666666666666666,
              "#ed7953"
             ],
             [
              0.7777777777777778,
              "#fb9f3a"
             ],
             [
              0.8888888888888888,
              "#fdca26"
             ],
             [
              1,
              "#f0f921"
             ]
            ],
            "type": "heatmap"
           }
          ],
          "heatmapgl": [
           {
            "colorbar": {
             "outlinewidth": 0,
             "ticks": ""
            },
            "colorscale": [
             [
              0,
              "#0d0887"
             ],
             [
              0.1111111111111111,
              "#46039f"
             ],
             [
              0.2222222222222222,
              "#7201a8"
             ],
             [
              0.3333333333333333,
              "#9c179e"
             ],
             [
              0.4444444444444444,
              "#bd3786"
             ],
             [
              0.5555555555555556,
              "#d8576b"
             ],
             [
              0.6666666666666666,
              "#ed7953"
             ],
             [
              0.7777777777777778,
              "#fb9f3a"
             ],
             [
              0.8888888888888888,
              "#fdca26"
             ],
             [
              1,
              "#f0f921"
             ]
            ],
            "type": "heatmapgl"
           }
          ],
          "histogram": [
           {
            "marker": {
             "pattern": {
              "fillmode": "overlay",
              "size": 10,
              "solidity": 0.2
             }
            },
            "type": "histogram"
           }
          ],
          "histogram2d": [
           {
            "colorbar": {
             "outlinewidth": 0,
             "ticks": ""
            },
            "colorscale": [
             [
              0,
              "#0d0887"
             ],
             [
              0.1111111111111111,
              "#46039f"
             ],
             [
              0.2222222222222222,
              "#7201a8"
             ],
             [
              0.3333333333333333,
              "#9c179e"
             ],
             [
              0.4444444444444444,
              "#bd3786"
             ],
             [
              0.5555555555555556,
              "#d8576b"
             ],
             [
              0.6666666666666666,
              "#ed7953"
             ],
             [
              0.7777777777777778,
              "#fb9f3a"
             ],
             [
              0.8888888888888888,
              "#fdca26"
             ],
             [
              1,
              "#f0f921"
             ]
            ],
            "type": "histogram2d"
           }
          ],
          "histogram2dcontour": [
           {
            "colorbar": {
             "outlinewidth": 0,
             "ticks": ""
            },
            "colorscale": [
             [
              0,
              "#0d0887"
             ],
             [
              0.1111111111111111,
              "#46039f"
             ],
             [
              0.2222222222222222,
              "#7201a8"
             ],
             [
              0.3333333333333333,
              "#9c179e"
             ],
             [
              0.4444444444444444,
              "#bd3786"
             ],
             [
              0.5555555555555556,
              "#d8576b"
             ],
             [
              0.6666666666666666,
              "#ed7953"
             ],
             [
              0.7777777777777778,
              "#fb9f3a"
             ],
             [
              0.8888888888888888,
              "#fdca26"
             ],
             [
              1,
              "#f0f921"
             ]
            ],
            "type": "histogram2dcontour"
           }
          ],
          "mesh3d": [
           {
            "colorbar": {
             "outlinewidth": 0,
             "ticks": ""
            },
            "type": "mesh3d"
           }
          ],
          "parcoords": [
           {
            "line": {
             "colorbar": {
              "outlinewidth": 0,
              "ticks": ""
             }
            },
            "type": "parcoords"
           }
          ],
          "pie": [
           {
            "automargin": true,
            "type": "pie"
           }
          ],
          "scatter": [
           {
            "fillpattern": {
             "fillmode": "overlay",
             "size": 10,
             "solidity": 0.2
            },
            "type": "scatter"
           }
          ],
          "scatter3d": [
           {
            "line": {
             "colorbar": {
              "outlinewidth": 0,
              "ticks": ""
             }
            },
            "marker": {
             "colorbar": {
              "outlinewidth": 0,
              "ticks": ""
             }
            },
            "type": "scatter3d"
           }
          ],
          "scattercarpet": [
           {
            "marker": {
             "colorbar": {
              "outlinewidth": 0,
              "ticks": ""
             }
            },
            "type": "scattercarpet"
           }
          ],
          "scattergeo": [
           {
            "marker": {
             "colorbar": {
              "outlinewidth": 0,
              "ticks": ""
             }
            },
            "type": "scattergeo"
           }
          ],
          "scattergl": [
           {
            "marker": {
             "colorbar": {
              "outlinewidth": 0,
              "ticks": ""
             }
            },
            "type": "scattergl"
           }
          ],
          "scattermapbox": [
           {
            "marker": {
             "colorbar": {
              "outlinewidth": 0,
              "ticks": ""
             }
            },
            "type": "scattermapbox"
           }
          ],
          "scatterpolar": [
           {
            "marker": {
             "colorbar": {
              "outlinewidth": 0,
              "ticks": ""
             }
            },
            "type": "scatterpolar"
           }
          ],
          "scatterpolargl": [
           {
            "marker": {
             "colorbar": {
              "outlinewidth": 0,
              "ticks": ""
             }
            },
            "type": "scatterpolargl"
           }
          ],
          "scatterternary": [
           {
            "marker": {
             "colorbar": {
              "outlinewidth": 0,
              "ticks": ""
             }
            },
            "type": "scatterternary"
           }
          ],
          "surface": [
           {
            "colorbar": {
             "outlinewidth": 0,
             "ticks": ""
            },
            "colorscale": [
             [
              0,
              "#0d0887"
             ],
             [
              0.1111111111111111,
              "#46039f"
             ],
             [
              0.2222222222222222,
              "#7201a8"
             ],
             [
              0.3333333333333333,
              "#9c179e"
             ],
             [
              0.4444444444444444,
              "#bd3786"
             ],
             [
              0.5555555555555556,
              "#d8576b"
             ],
             [
              0.6666666666666666,
              "#ed7953"
             ],
             [
              0.7777777777777778,
              "#fb9f3a"
             ],
             [
              0.8888888888888888,
              "#fdca26"
             ],
             [
              1,
              "#f0f921"
             ]
            ],
            "type": "surface"
           }
          ],
          "table": [
           {
            "cells": {
             "fill": {
              "color": "#EBF0F8"
             },
             "line": {
              "color": "white"
             }
            },
            "header": {
             "fill": {
              "color": "#C8D4E3"
             },
             "line": {
              "color": "white"
             }
            },
            "type": "table"
           }
          ]
         },
         "layout": {
          "annotationdefaults": {
           "arrowcolor": "#2a3f5f",
           "arrowhead": 0,
           "arrowwidth": 1
          },
          "autotypenumbers": "strict",
          "coloraxis": {
           "colorbar": {
            "outlinewidth": 0,
            "ticks": ""
           }
          },
          "colorscale": {
           "diverging": [
            [
             0,
             "#8e0152"
            ],
            [
             0.1,
             "#c51b7d"
            ],
            [
             0.2,
             "#de77ae"
            ],
            [
             0.3,
             "#f1b6da"
            ],
            [
             0.4,
             "#fde0ef"
            ],
            [
             0.5,
             "#f7f7f7"
            ],
            [
             0.6,
             "#e6f5d0"
            ],
            [
             0.7,
             "#b8e186"
            ],
            [
             0.8,
             "#7fbc41"
            ],
            [
             0.9,
             "#4d9221"
            ],
            [
             1,
             "#276419"
            ]
           ],
           "sequential": [
            [
             0,
             "#0d0887"
            ],
            [
             0.1111111111111111,
             "#46039f"
            ],
            [
             0.2222222222222222,
             "#7201a8"
            ],
            [
             0.3333333333333333,
             "#9c179e"
            ],
            [
             0.4444444444444444,
             "#bd3786"
            ],
            [
             0.5555555555555556,
             "#d8576b"
            ],
            [
             0.6666666666666666,
             "#ed7953"
            ],
            [
             0.7777777777777778,
             "#fb9f3a"
            ],
            [
             0.8888888888888888,
             "#fdca26"
            ],
            [
             1,
             "#f0f921"
            ]
           ],
           "sequentialminus": [
            [
             0,
             "#0d0887"
            ],
            [
             0.1111111111111111,
             "#46039f"
            ],
            [
             0.2222222222222222,
             "#7201a8"
            ],
            [
             0.3333333333333333,
             "#9c179e"
            ],
            [
             0.4444444444444444,
             "#bd3786"
            ],
            [
             0.5555555555555556,
             "#d8576b"
            ],
            [
             0.6666666666666666,
             "#ed7953"
            ],
            [
             0.7777777777777778,
             "#fb9f3a"
            ],
            [
             0.8888888888888888,
             "#fdca26"
            ],
            [
             1,
             "#f0f921"
            ]
           ]
          },
          "colorway": [
           "#636efa",
           "#EF553B",
           "#00cc96",
           "#ab63fa",
           "#FFA15A",
           "#19d3f3",
           "#FF6692",
           "#B6E880",
           "#FF97FF",
           "#FECB52"
          ],
          "font": {
           "color": "#2a3f5f"
          },
          "geo": {
           "bgcolor": "white",
           "lakecolor": "white",
           "landcolor": "#E5ECF6",
           "showlakes": true,
           "showland": true,
           "subunitcolor": "white"
          },
          "hoverlabel": {
           "align": "left"
          },
          "hovermode": "closest",
          "mapbox": {
           "style": "light"
          },
          "paper_bgcolor": "white",
          "plot_bgcolor": "#E5ECF6",
          "polar": {
           "angularaxis": {
            "gridcolor": "white",
            "linecolor": "white",
            "ticks": ""
           },
           "bgcolor": "#E5ECF6",
           "radialaxis": {
            "gridcolor": "white",
            "linecolor": "white",
            "ticks": ""
           }
          },
          "scene": {
           "xaxis": {
            "backgroundcolor": "#E5ECF6",
            "gridcolor": "white",
            "gridwidth": 2,
            "linecolor": "white",
            "showbackground": true,
            "ticks": "",
            "zerolinecolor": "white"
           },
           "yaxis": {
            "backgroundcolor": "#E5ECF6",
            "gridcolor": "white",
            "gridwidth": 2,
            "linecolor": "white",
            "showbackground": true,
            "ticks": "",
            "zerolinecolor": "white"
           },
           "zaxis": {
            "backgroundcolor": "#E5ECF6",
            "gridcolor": "white",
            "gridwidth": 2,
            "linecolor": "white",
            "showbackground": true,
            "ticks": "",
            "zerolinecolor": "white"
           }
          },
          "shapedefaults": {
           "line": {
            "color": "#2a3f5f"
           }
          },
          "ternary": {
           "aaxis": {
            "gridcolor": "white",
            "linecolor": "white",
            "ticks": ""
           },
           "baxis": {
            "gridcolor": "white",
            "linecolor": "white",
            "ticks": ""
           },
           "bgcolor": "#E5ECF6",
           "caxis": {
            "gridcolor": "white",
            "linecolor": "white",
            "ticks": ""
           }
          },
          "title": {
           "x": 0.05
          },
          "xaxis": {
           "automargin": true,
           "gridcolor": "white",
           "linecolor": "white",
           "ticks": "",
           "title": {
            "standoff": 15
           },
           "zerolinecolor": "white",
           "zerolinewidth": 2
          },
          "yaxis": {
           "automargin": true,
           "gridcolor": "white",
           "linecolor": "white",
           "ticks": "",
           "title": {
            "standoff": 15
           },
           "zerolinecolor": "white",
           "zerolinewidth": 2
          }
         }
        },
        "title": {
         "text": "Distribution of Distinct Symptoms Across Diseases"
        },
        "width": 800
       }
      }
     },
     "metadata": {},
     "output_type": "display_data"
    }
   ],
   "source": [
    "import pandas as pd\n",
    "import plotly.express as px\n",
    "\n",
    "# Load the dataset\n",
    "df = pd.read_csv('disease_symptoms.csv')\n",
    "\n",
    "# Melt the dataframe to gather all symptom columns into a single column\n",
    "symptom_columns = [col for col in df.columns if col.startswith('Symptom')]\n",
    "melted_df = df.melt(id_vars=['Disease'], value_vars=symptom_columns, var_name='Symptom_Number', value_name='Symptom')\n",
    "\n",
    "# Drop rows where the symptom is NaN\n",
    "melted_df = melted_df.dropna(subset=['Symptom'])\n",
    "\n",
    "# Count the occurrence of each symptom across all diseases\n",
    "symptom_distribution = melted_df['Symptom'].value_counts().reset_index()\n",
    "symptom_distribution.columns = ['Symptom', 'Count']\n",
    "\n",
    "# Create an interactive pie chart\n",
    "fig = px.pie(\n",
    "    symptom_distribution,\n",
    "    names='Symptom',\n",
    "    values='Count',\n",
    "    title=\"Distribution of Distinct Symptoms Across Diseases\",\n",
    "    hover_data=['Count'],\n",
    "    labels={'Symptom':'Symptoms', 'Count':'Number of Instances'}\n",
    ")\n",
    "\n",
    "# Adjust the size of the pie chart to be manageable\n",
    "fig.update_traces(textposition='inside', textinfo='percent+label')\n",
    "fig.update_layout(\n",
    "    margin=dict(t=40, b=40, l=40, r=40),  # Adjust margins to keep the chart from being too big\n",
    "    height=600,  # Adjust the height\n",
    "    width=800  # Adjust the width\n",
    ")\n",
    "\n",
    "# Show the interactive pie chart\n",
    "fig.show()\n",
    "\n"
   ]
  },
  {
   "cell_type": "markdown",
   "id": "464bfa66-cd34-4a90-b1b9-bd2e1414cbcc",
   "metadata": {},
   "source": [
    "#### Correlation Matrix of Diseases"
   ]
  },
  {
   "cell_type": "code",
   "execution_count": 8,
   "id": "c26b5c0b-ae5f-4d16-b743-ab70c004e9d8",
   "metadata": {},
   "outputs": [
    {
     "data": {
      "image/png": "[encoded data removed]",
      "text/plain": [
       "<Figure size 1500x1000 with 2 Axes>"
      ]
     },
     "metadata": {},
     "output_type": "display_data"
    }
   ],
   "source": [
    "import seaborn as sns\n",
    "import numpy as np\n",
    "\n",
    "# Create a binary matrix where each symptom is a column and each disease is a row\n",
    "symptom_binary_matrix = pd.get_dummies(df.set_index('Disease').stack()).groupby(level=0).sum()\n",
    "\n",
    "# Calculate the correlation matrix\n",
    "disease_correlation = symptom_binary_matrix.T.corr()\n",
    "\n",
    "# Plot the correlation matrix\n",
    "plt.figure(figsize=(15, 10))\n",
    "sns.heatmap(\n",
    "    disease_correlation,\n",
    "    annot=False,  # Turn off annotations for a cleaner look\n",
    "    cmap='coolwarm',\n",
    "    linewidths=0.5,\n",
    "    square=True,\n",
    "    cbar_kws={\"shrink\": .5}\n",
    ")\n",
    "plt.title(\"Correlation Matrix of Diseases Based on Symptom Overlap\")\n",
    "plt.show()\n"
   ]
  },
  {
   "cell_type": "markdown",
   "id": "78706af7-6cfb-4efb-92db-4cbf86ca55be",
   "metadata": {},
   "source": [
    "## Model Training and Evaluation\n",
    "\n",
    "### MLP (Multi-Layer Perceptron)\n",
    "The MLP model is a type of neural network that is well-suited for tabular data, where each feature is independent of the others. It is a fully connected feedforward neural network that uses multiple layers to learn complex patterns in the data. This model is chosen for its simplicity and effectiveness in handling structured data.\n",
    "\n",
    "### CNN (Convolutional Neural Network)\n",
    "The CNN model is typically used for image data but can be adapted to tabular data to capture local patterns and spatial relationships. It includes convolutional layers that automatically detect the most important features in the data, making it powerful for capturing complex patterns. This model is chosen for its ability to identify patterns that might be missed by simpler models.\n",
    "\n",
    "### LSTM (Long Short-Term Memory)\n",
    "The LSTM model is a type of Recurrent Neural Network (RNN) that is particularly good at handling sequential data. Although typically used for time-series data, it can be adapted to consider the sequence of symptoms as a form of temporal data. This model is chosen for its ability to remember previous inputs, making it suitable for data where the order of features might matter.\n",
    "\n",
    "### Random Forest and Decision Tree\n",
    "The Random Forest and Decision Tree models are traditional machine learning models that are included for comparison. The Decision Tree model is simple and interpretable, while the Random Forest model is an ensemble method that can provide robust predictions by averaging the results of multiple decision trees.\n",
    " future use.\n"
   ]
  },
  {
   "cell_type": "markdown",
   "id": "4ae1af20-f142-41c1-a38f-6aacf61f06b8",
   "metadata": {},
   "source": [
    "## Prepare Data for Model Training"
   ]
  },
  {
   "cell_type": "code",
   "execution_count": 9,
   "id": "36e5a2dc-5433-443b-bc53-57232b3ebb01",
   "metadata": {},
   "outputs": [],
   "source": [
    "# Import Libraries\n",
    "\n",
    "from sklearn.preprocessing import OneHotEncoder, StandardScaler\n",
    "from sklearn.preprocessing import OneHotEncoder"
   ]
  },
  {
   "cell_type": "code",
   "execution_count": 10,
   "id": "a3f60af2-7636-4faf-b5a8-889a2213a9d9",
   "metadata": {},
   "outputs": [
    {
     "data": {
      "text/html": [
       "<div>\n",
       "<style scoped>\n",
       "    .dataframe tbody tr th:only-of-type {\n",
       "        vertical-align: middle;\n",
       "    }\n",
       "\n",
       "    .dataframe tbody tr th {\n",
       "        vertical-align: top;\n",
       "    }\n",
       "\n",
       "    .dataframe thead th {\n",
       "        text-align: right;\n",
       "    }\n",
       "</style>\n",
       "<table border=\"1\" class=\"dataframe\">\n",
       "  <thead>\n",
       "    <tr style=\"text-align: right;\">\n",
       "      <th></th>\n",
       "      <th>Disease</th>\n",
       "      <th>Symptom_1_acidity</th>\n",
       "      <th>Symptom_1_back_pain</th>\n",
       "      <th>Symptom_1_bladder_discomfort</th>\n",
       "      <th>Symptom_1_breathlessness</th>\n",
       "      <th>Symptom_1_burning_micturition</th>\n",
       "      <th>Symptom_1_chest_pain</th>\n",
       "      <th>Symptom_1_chills</th>\n",
       "      <th>Symptom_1_constipation</th>\n",
       "      <th>Symptom_1_continuous_sneezing</th>\n",
       "      <th>...</th>\n",
       "      <th>Symptom_15_blood_in_sputum</th>\n",
       "      <th>Symptom_15_chest_pain</th>\n",
       "      <th>Symptom_15_loss_of_smell</th>\n",
       "      <th>Symptom_15_nan</th>\n",
       "      <th>Symptom_16_blood_in_sputum</th>\n",
       "      <th>Symptom_16_loss_of_smell</th>\n",
       "      <th>Symptom_16_muscle_pain</th>\n",
       "      <th>Symptom_16_nan</th>\n",
       "      <th>Symptom_17_muscle_pain</th>\n",
       "      <th>Symptom_17_nan</th>\n",
       "    </tr>\n",
       "  </thead>\n",
       "  <tbody>\n",
       "    <tr>\n",
       "      <th>4956</th>\n",
       "      <td>Vertigo</td>\n",
       "      <td>-0.158114</td>\n",
       "      <td>-0.149883</td>\n",
       "      <td>-0.049242</td>\n",
       "      <td>-0.049242</td>\n",
       "      <td>-0.149883</td>\n",
       "      <td>-0.049242</td>\n",
       "      <td>-0.326535</td>\n",
       "      <td>-0.154048</td>\n",
       "      <td>-0.217456</td>\n",
       "      <td>...</td>\n",
       "      <td>-0.098843</td>\n",
       "      <td>-0.174132</td>\n",
       "      <td>-0.098843</td>\n",
       "      <td>0.226455</td>\n",
       "      <td>-0.122207</td>\n",
       "      <td>-0.122207</td>\n",
       "      <td>-0.098843</td>\n",
       "      <td>0.201734</td>\n",
       "      <td>-0.122207</td>\n",
       "      <td>0.122207</td>\n",
       "    </tr>\n",
       "    <tr>\n",
       "      <th>4957</th>\n",
       "      <td>Acne</td>\n",
       "      <td>-0.158114</td>\n",
       "      <td>-0.149883</td>\n",
       "      <td>-0.049242</td>\n",
       "      <td>-0.049242</td>\n",
       "      <td>-0.149883</td>\n",
       "      <td>-0.049242</td>\n",
       "      <td>-0.326535</td>\n",
       "      <td>-0.154048</td>\n",
       "      <td>-0.217456</td>\n",
       "      <td>...</td>\n",
       "      <td>-0.098843</td>\n",
       "      <td>-0.174132</td>\n",
       "      <td>-0.098843</td>\n",
       "      <td>0.226455</td>\n",
       "      <td>-0.122207</td>\n",
       "      <td>-0.122207</td>\n",
       "      <td>-0.098843</td>\n",
       "      <td>0.201734</td>\n",
       "      <td>-0.122207</td>\n",
       "      <td>0.122207</td>\n",
       "    </tr>\n",
       "    <tr>\n",
       "      <th>4958</th>\n",
       "      <td>Urinary Tract Infection</td>\n",
       "      <td>-0.158114</td>\n",
       "      <td>-0.149883</td>\n",
       "      <td>-0.049242</td>\n",
       "      <td>-0.049242</td>\n",
       "      <td>6.671863</td>\n",
       "      <td>-0.049242</td>\n",
       "      <td>-0.326535</td>\n",
       "      <td>-0.154048</td>\n",
       "      <td>-0.217456</td>\n",
       "      <td>...</td>\n",
       "      <td>-0.098843</td>\n",
       "      <td>-0.174132</td>\n",
       "      <td>-0.098843</td>\n",
       "      <td>0.226455</td>\n",
       "      <td>-0.122207</td>\n",
       "      <td>-0.122207</td>\n",
       "      <td>-0.098843</td>\n",
       "      <td>0.201734</td>\n",
       "      <td>-0.122207</td>\n",
       "      <td>0.122207</td>\n",
       "    </tr>\n",
       "    <tr>\n",
       "      <th>4959</th>\n",
       "      <td>Psoriasis</td>\n",
       "      <td>-0.158114</td>\n",
       "      <td>-0.149883</td>\n",
       "      <td>-0.049242</td>\n",
       "      <td>-0.049242</td>\n",
       "      <td>-0.149883</td>\n",
       "      <td>-0.049242</td>\n",
       "      <td>-0.326535</td>\n",
       "      <td>-0.154048</td>\n",
       "      <td>-0.217456</td>\n",
       "      <td>...</td>\n",
       "      <td>-0.098843</td>\n",
       "      <td>-0.174132</td>\n",
       "      <td>-0.098843</td>\n",
       "      <td>0.226455</td>\n",
       "      <td>-0.122207</td>\n",
       "      <td>-0.122207</td>\n",
       "      <td>-0.098843</td>\n",
       "      <td>0.201734</td>\n",
       "      <td>-0.122207</td>\n",
       "      <td>0.122207</td>\n",
       "    </tr>\n",
       "    <tr>\n",
       "      <th>4960</th>\n",
       "      <td>Impetigo</td>\n",
       "      <td>-0.158114</td>\n",
       "      <td>-0.149883</td>\n",
       "      <td>-0.049242</td>\n",
       "      <td>-0.049242</td>\n",
       "      <td>-0.149883</td>\n",
       "      <td>-0.049242</td>\n",
       "      <td>-0.326535</td>\n",
       "      <td>-0.154048</td>\n",
       "      <td>-0.217456</td>\n",
       "      <td>...</td>\n",
       "      <td>-0.098843</td>\n",
       "      <td>-0.174132</td>\n",
       "      <td>-0.098843</td>\n",
       "      <td>0.226455</td>\n",
       "      <td>-0.122207</td>\n",
       "      <td>-0.122207</td>\n",
       "      <td>-0.098843</td>\n",
       "      <td>0.201734</td>\n",
       "      <td>-0.122207</td>\n",
       "      <td>0.122207</td>\n",
       "    </tr>\n",
       "  </tbody>\n",
       "</table>\n",
       "<p>5 rows × 409 columns</p>\n",
       "</div>"
      ],
      "text/plain": [
       "                      Disease  Symptom_1_acidity  Symptom_1_back_pain  \\\n",
       "4956                  Vertigo          -0.158114            -0.149883   \n",
       "4957                     Acne          -0.158114            -0.149883   \n",
       "4958  Urinary Tract Infection          -0.158114            -0.149883   \n",
       "4959                Psoriasis          -0.158114            -0.149883   \n",
       "4960                 Impetigo          -0.158114            -0.149883   \n",
       "\n",
       "      Symptom_1_bladder_discomfort  Symptom_1_breathlessness  \\\n",
       "4956                     -0.049242                 -0.049242   \n",
       "4957                     -0.049242                 -0.049242   \n",
       "4958                     -0.049242                 -0.049242   \n",
       "4959                     -0.049242                 -0.049242   \n",
       "4960                     -0.049242                 -0.049242   \n",
       "\n",
       "      Symptom_1_burning_micturition  Symptom_1_chest_pain  Symptom_1_chills  \\\n",
       "4956                      -0.149883             -0.049242         -0.326535   \n",
       "4957                      -0.149883             -0.049242         -0.326535   \n",
       "4958                       6.671863             -0.049242         -0.326535   \n",
       "4959                      -0.149883             -0.049242         -0.326535   \n",
       "4960                      -0.149883             -0.049242         -0.326535   \n",
       "\n",
       "      Symptom_1_constipation  Symptom_1_continuous_sneezing  ...  \\\n",
       "4956               -0.154048                      -0.217456  ...   \n",
       "4957               -0.154048                      -0.217456  ...   \n",
       "4958               -0.154048                      -0.217456  ...   \n",
       "4959               -0.154048                      -0.217456  ...   \n",
       "4960               -0.154048                      -0.217456  ...   \n",
       "\n",
       "      Symptom_15_blood_in_sputum  Symptom_15_chest_pain  \\\n",
       "4956                   -0.098843              -0.174132   \n",
       "4957                   -0.098843              -0.174132   \n",
       "4958                   -0.098843              -0.174132   \n",
       "4959                   -0.098843              -0.174132   \n",
       "4960                   -0.098843              -0.174132   \n",
       "\n",
       "      Symptom_15_loss_of_smell  Symptom_15_nan  Symptom_16_blood_in_sputum  \\\n",
       "4956                 -0.098843        0.226455                   -0.122207   \n",
       "4957                 -0.098843        0.226455                   -0.122207   \n",
       "4958                 -0.098843        0.226455                   -0.122207   \n",
       "4959                 -0.098843        0.226455                   -0.122207   \n",
       "4960                 -0.098843        0.226455                   -0.122207   \n",
       "\n",
       "      Symptom_16_loss_of_smell  Symptom_16_muscle_pain  Symptom_16_nan  \\\n",
       "4956                 -0.122207               -0.098843        0.201734   \n",
       "4957                 -0.122207               -0.098843        0.201734   \n",
       "4958                 -0.122207               -0.098843        0.201734   \n",
       "4959                 -0.122207               -0.098843        0.201734   \n",
       "4960                 -0.122207               -0.098843        0.201734   \n",
       "\n",
       "      Symptom_17_muscle_pain  Symptom_17_nan  \n",
       "4956               -0.122207        0.122207  \n",
       "4957               -0.122207        0.122207  \n",
       "4958               -0.122207        0.122207  \n",
       "4959               -0.122207        0.122207  \n",
       "4960               -0.122207        0.122207  \n",
       "\n",
       "[5 rows x 409 columns]"
      ]
     },
     "execution_count": 10,
     "metadata": {},
     "output_type": "execute_result"
    }
   ],
   "source": [
    "# Encode categorical symptoms using one-hot encoding\n",
    "symptom_columns = df.columns[1:]\n",
    "onehot_encoder = OneHotEncoder(sparse_output=False, handle_unknown='ignore')\n",
    "encoded_symptoms = onehot_encoder.fit_transform(df[symptom_columns])\n",
    "\n",
    "# Normalize the encoded data\n",
    "scaler = StandardScaler()\n",
    "normalized_symptoms = scaler.fit_transform(encoded_symptoms)\n",
    "\n",
    "# Convert normalized symptoms back to DataFrame\n",
    "encoded_df = pd.DataFrame(normalized_symptoms, columns=onehot_encoder.get_feature_names_out(symptom_columns))\n",
    "\n",
    "# Concatenate the encoded symptoms with the disease column\n",
    "preprocessed_df = pd.concat([df[['Disease']].reset_index(drop=True), encoded_df], axis=1)\n",
    "\n",
    "# Display the first few rows of the preprocessed dataset\n",
    "preprocessed_df.tail()"
   ]
  },
  {
   "cell_type": "markdown",
   "id": "939af472-535f-45fa-a724-2107b061c2d8",
   "metadata": {},
   "source": [
    "## Model Selection and Training"
   ]
  },
  {
   "cell_type": "markdown",
   "id": "e6ecdebb-7bbd-40a7-ae5e-320eec63bcfc",
   "metadata": {},
   "source": [
    "### Multi-Layer Perceptron (MLP)\n",
    "**Pro:** Simple and effective for structured data, such as tables with fixed columns (like symptoms).\n",
    "\n",
    "**Con:** Struggles with spatial or sequential relationships in data.\n",
    "\n",
    "**Use Case:** Best for datasets where each input feature (e.g., symptom) is independent of others."
   ]
  },
  {
   "cell_type": "code",
   "execution_count": 11,
   "id": "f89e5375-8eed-4b85-bd86-4a691e5f36eb",
   "metadata": {},
   "outputs": [],
   "source": [
    "# Import libraries\n",
    "from tensorflow.keras.models import Sequential\n",
    "from tensorflow.keras.layers import Dense\n",
    "import tensorflow as tf"
   ]
  },
  {
   "cell_type": "code",
   "execution_count": 12,
   "id": "80266ab8-e0f0-4734-9f53-ce03bde085a3",
   "metadata": {},
   "outputs": [
    {
     "name": "stdout",
     "output_type": "stream",
     "text": [
      "Epoch 1/20\n",
      "\u001b[1m124/124\u001b[0m \u001b[32m━━━━━━━━━━━━━━━━━━━━\u001b[0m\u001b[37m\u001b[0m \u001b[1m6s\u001b[0m 11ms/step - accuracy: 0.6150 - loss: 2.0535 - val_accuracy: 1.0000 - val_loss: 0.0115\n",
      "Epoch 2/20\n",
      "\u001b[1m124/124\u001b[0m \u001b[32m━━━━━━━━━━━━━━━━━━━━\u001b[0m\u001b[37m\u001b[0m \u001b[1m2s\u001b[0m 7ms/step - accuracy: 1.0000 - loss: 0.0114 - val_accuracy: 1.0000 - val_loss: 0.0029\n",
      "Epoch 3/20\n",
      "\u001b[1m124/124\u001b[0m \u001b[32m━━━━━━━━━━━━━━━━━━━━\u001b[0m\u001b[37m\u001b[0m \u001b[1m1s\u001b[0m 6ms/step - accuracy: 1.0000 - loss: 0.0037 - val_accuracy: 1.0000 - val_loss: 0.0014\n",
      "Epoch 4/20\n",
      "\u001b[1m124/124\u001b[0m \u001b[32m━━━━━━━━━━━━━━━━━━━━\u001b[0m\u001b[37m\u001b[0m \u001b[1m1s\u001b[0m 5ms/step - accuracy: 1.0000 - loss: 0.0019 - val_accuracy: 1.0000 - val_loss: 8.3474e-04\n",
      "Epoch 5/20\n",
      "\u001b[1m124/124\u001b[0m \u001b[32m━━━━━━━━━━━━━━━━━━━━\u001b[0m\u001b[37m\u001b[0m \u001b[1m2s\u001b[0m 12ms/step - accuracy: 1.0000 - loss: 0.0012 - val_accuracy: 1.0000 - val_loss: 5.5501e-04\n",
      "Epoch 6/20\n",
      "\u001b[1m124/124\u001b[0m \u001b[32m━━━━━━━━━━━━━━━━━━━━\u001b[0m\u001b[37m\u001b[0m \u001b[1m2s\u001b[0m 6ms/step - accuracy: 1.0000 - loss: 7.9690e-04 - val_accuracy: 1.0000 - val_loss: 3.9796e-04\n",
      "Epoch 7/20\n",
      "\u001b[1m124/124\u001b[0m \u001b[32m━━━━━━━━━━━━━━━━━━━━\u001b[0m\u001b[37m\u001b[0m \u001b[1m1s\u001b[0m 6ms/step - accuracy: 1.0000 - loss: 5.8135e-04 - val_accuracy: 1.0000 - val_loss: 2.9891e-04\n",
      "Epoch 8/20\n",
      "\u001b[1m124/124\u001b[0m \u001b[32m━━━━━━━━━━━━━━━━━━━━\u001b[0m\u001b[37m\u001b[0m \u001b[1m1s\u001b[0m 5ms/step - accuracy: 1.0000 - loss: 4.4226e-04 - val_accuracy: 1.0000 - val_loss: 2.3228e-04\n",
      "Epoch 9/20\n",
      "\u001b[1m124/124\u001b[0m \u001b[32m━━━━━━━━━━━━━━━━━━━━\u001b[0m\u001b[37m\u001b[0m \u001b[1m1s\u001b[0m 7ms/step - accuracy: 1.0000 - loss: 3.5109e-04 - val_accuracy: 1.0000 - val_loss: 1.8531e-04\n",
      "Epoch 10/20\n",
      "\u001b[1m124/124\u001b[0m \u001b[32m━━━━━━━━━━━━━━━━━━━━\u001b[0m\u001b[37m\u001b[0m \u001b[1m1s\u001b[0m 5ms/step - accuracy: 1.0000 - loss: 2.8355e-04 - val_accuracy: 1.0000 - val_loss: 1.5096e-04\n",
      "Epoch 11/20\n",
      "\u001b[1m124/124\u001b[0m \u001b[32m━━━━━━━━━━━━━━━━━━━━\u001b[0m\u001b[37m\u001b[0m \u001b[1m1s\u001b[0m 4ms/step - accuracy: 1.0000 - loss: 2.3278e-04 - val_accuracy: 1.0000 - val_loss: 1.2515e-04\n",
      "Epoch 12/20\n",
      "\u001b[1m124/124\u001b[0m \u001b[32m━━━━━━━━━━━━━━━━━━━━\u001b[0m\u001b[37m\u001b[0m \u001b[1m1s\u001b[0m 5ms/step - accuracy: 1.0000 - loss: 1.9198e-04 - val_accuracy: 1.0000 - val_loss: 1.0510e-04\n",
      "Epoch 13/20\n",
      "\u001b[1m124/124\u001b[0m \u001b[32m━━━━━━━━━━━━━━━━━━━━\u001b[0m\u001b[37m\u001b[0m \u001b[1m1s\u001b[0m 6ms/step - accuracy: 1.0000 - loss: 1.6113e-04 - val_accuracy: 1.0000 - val_loss: 8.9284e-05\n",
      "Epoch 14/20\n",
      "\u001b[1m124/124\u001b[0m \u001b[32m━━━━━━━━━━━━━━━━━━━━\u001b[0m\u001b[37m\u001b[0m \u001b[1m1s\u001b[0m 5ms/step - accuracy: 1.0000 - loss: 1.4250e-04 - val_accuracy: 1.0000 - val_loss: 7.6582e-05\n",
      "Epoch 15/20\n",
      "\u001b[1m124/124\u001b[0m \u001b[32m━━━━━━━━━━━━━━━━━━━━\u001b[0m\u001b[37m\u001b[0m \u001b[1m1s\u001b[0m 5ms/step - accuracy: 1.0000 - loss: 1.2684e-04 - val_accuracy: 1.0000 - val_loss: 6.6307e-05\n",
      "Epoch 16/20\n",
      "\u001b[1m124/124\u001b[0m \u001b[32m━━━━━━━━━━━━━━━━━━━━\u001b[0m\u001b[37m\u001b[0m \u001b[1m1s\u001b[0m 6ms/step - accuracy: 1.0000 - loss: 1.0643e-04 - val_accuracy: 1.0000 - val_loss: 5.7905e-05\n",
      "Epoch 17/20\n",
      "\u001b[1m124/124\u001b[0m \u001b[32m━━━━━━━━━━━━━━━━━━━━\u001b[0m\u001b[37m\u001b[0m \u001b[1m1s\u001b[0m 6ms/step - accuracy: 1.0000 - loss: 9.1192e-05 - val_accuracy: 1.0000 - val_loss: 5.0808e-05\n",
      "Epoch 18/20\n",
      "\u001b[1m124/124\u001b[0m \u001b[32m━━━━━━━━━━━━━━━━━━━━\u001b[0m\u001b[37m\u001b[0m \u001b[1m2s\u001b[0m 8ms/step - accuracy: 1.0000 - loss: 7.9594e-05 - val_accuracy: 1.0000 - val_loss: 4.4835e-05\n",
      "Epoch 19/20\n",
      "\u001b[1m124/124\u001b[0m \u001b[32m━━━━━━━━━━━━━━━━━━━━\u001b[0m\u001b[37m\u001b[0m \u001b[1m2s\u001b[0m 14ms/step - accuracy: 1.0000 - loss: 7.3883e-05 - val_accuracy: 1.0000 - val_loss: 3.9786e-05\n",
      "Epoch 20/20\n",
      "\u001b[1m124/124\u001b[0m \u001b[32m━━━━━━━━━━━━━━━━━━━━\u001b[0m\u001b[37m\u001b[0m \u001b[1m1s\u001b[0m 7ms/step - accuracy: 1.0000 - loss: 6.4737e-05 - val_accuracy: 1.0000 - val_loss: 3.5398e-05\n"
     ]
    },
    {
     "data": {
      "text/plain": [
       "{'accuracy': [0.8533266186714172,\n",
       "  1.0,\n",
       "  1.0,\n",
       "  1.0,\n",
       "  1.0,\n",
       "  1.0,\n",
       "  1.0,\n",
       "  1.0,\n",
       "  1.0,\n",
       "  1.0,\n",
       "  1.0,\n",
       "  1.0,\n",
       "  1.0,\n",
       "  1.0,\n",
       "  1.0,\n",
       "  1.0,\n",
       "  1.0,\n",
       "  1.0,\n",
       "  1.0,\n",
       "  1.0],\n",
       " 'loss': [0.948653519153595,\n",
       "  0.008473648689687252,\n",
       "  0.003115948988124728,\n",
       "  0.0016838519368320704,\n",
       "  0.0010695826495066285,\n",
       "  0.0007428686367347836,\n",
       "  0.00054782978259027,\n",
       "  0.0004201379488222301,\n",
       "  0.0003322688862681389,\n",
       "  0.0002690043475013226,\n",
       "  0.0002217447035945952,\n",
       "  0.0001854786678450182,\n",
       "  0.0001570860913489014,\n",
       "  0.00013450361439026892,\n",
       "  0.00011620349687291309,\n",
       "  0.00010119090438820422,\n",
       "  8.86790148797445e-05,\n",
       "  7.812802505213767e-05,\n",
       "  6.922228203620762e-05,\n",
       "  6.158628821140155e-05],\n",
       " 'val_accuracy': [1.0,\n",
       "  1.0,\n",
       "  1.0,\n",
       "  1.0,\n",
       "  1.0,\n",
       "  1.0,\n",
       "  1.0,\n",
       "  1.0,\n",
       "  1.0,\n",
       "  1.0,\n",
       "  1.0,\n",
       "  1.0,\n",
       "  1.0,\n",
       "  1.0,\n",
       "  1.0,\n",
       "  1.0,\n",
       "  1.0,\n",
       "  1.0,\n",
       "  1.0,\n",
       "  1.0],\n",
       " 'val_loss': [0.01147043239325285,\n",
       "  0.0029209372587502003,\n",
       "  0.0014111404307186604,\n",
       "  0.0008347391849383712,\n",
       "  0.0005550115020014346,\n",
       "  0.00039796141209080815,\n",
       "  0.0002989069325849414,\n",
       "  0.00023227944620884955,\n",
       "  0.00018530615488998592,\n",
       "  0.0001509591966168955,\n",
       "  0.00012515044363681227,\n",
       "  0.00010510201536817476,\n",
       "  8.928365423344076e-05,\n",
       "  7.658212416572496e-05,\n",
       "  6.630678399233148e-05,\n",
       "  5.790495197288692e-05,\n",
       "  5.0808146625058725e-05,\n",
       "  4.483480006456375e-05,\n",
       "  3.978634049417451e-05,\n",
       "  3.5398461477598175e-05]}"
      ]
     },
     "execution_count": 12,
     "metadata": {},
     "output_type": "execute_result"
    }
   ],
   "source": [
    "# Encode the 'Disease' column into one-hot vectors\n",
    "onehot_encoder = OneHotEncoder(sparse_output=False)\n",
    "y = onehot_encoder.fit_transform(preprocessed_df[['Disease']])\n",
    "\n",
    "# Correct the number of output units to match the number of unique diseases\n",
    "mlp_model = Sequential([\n",
    "    tf.keras.layers.Input(shape=(preprocessed_df.shape[1] - 1,)),  # Input layer\n",
    "    Dense(128, activation='relu'),  # Hidden layer\n",
    "    Dense(64, activation='relu'),  # Hidden layer\n",
    "    Dense(y.shape[1], activation='softmax')  # Output layer for multi-class classification\n",
    "])\n",
    "\n",
    "# Compile the model\n",
    "mlp_model.compile(optimizer='adam', loss='categorical_crossentropy', metrics=['accuracy'])\n",
    "\n",
    "# Separate features and labels\n",
    "X = preprocessed_df.drop('Disease', axis=1)\n",
    "\n",
    "# Train the model\n",
    "mlp_history = mlp_model.fit(X, y, epochs=20, validation_split=0.2, batch_size=32)\n",
    "\n",
    "# Display the training and validation accuracy/loss\n",
    "mlp_history.history\n"
   ]
  },
  {
   "cell_type": "code",
   "execution_count": 13,
   "id": "a77a1b9d-25c1-49a6-adba-8826135859b1",
   "metadata": {},
   "outputs": [
    {
     "name": "stdout",
     "output_type": "stream",
     "text": [
      "\u001b[1m156/156\u001b[0m \u001b[32m━━━━━━━━━━━━━━━━━━━━\u001b[0m\u001b[37m\u001b[0m \u001b[1m1s\u001b[0m 3ms/step - accuracy: 1.0000 - loss: 6.6488e-05\n",
      "Test Accuracy: 1.0\n",
      "Test Loss: 5.3442905482370406e-05\n"
     ]
    }
   ],
   "source": [
    "# Evaluate the model on the test set\n",
    "test_loss, test_accuracy = mlp_model.evaluate(X, y)\n",
    "\n",
    "# Display the test accuracy and loss\n",
    "print(f\"Test Accuracy: {test_accuracy}\")\n",
    "print(f\"Test Loss: {test_loss}\")\n"
   ]
  },
  {
   "cell_type": "markdown",
   "id": "49f2de6e-574d-4db0-ada7-cefb0a39973b",
   "metadata": {},
   "source": [
    "## Convolutional Neural Network (CNN) for Text Model Summary\n",
    "**Pro:** Effective at capturing local patterns in data, particularly useful for text classification tasks where specific word sequences are important.\n",
    "\n",
    "**Con:** Computationally intensive, especially with larger datasets or deeper networks.\n",
    "\n",
    "**Use Case:** Ideal for tasks where local dependencies or patterns in symptoms can indicate specific diseases."
   ]
  },
  {
   "cell_type": "code",
   "execution_count": 14,
   "id": "86e2971b-93cf-4417-be3b-6a9763093918",
   "metadata": {},
   "outputs": [],
   "source": [
    "#Import libraries\n",
    "from tensorflow.keras.layers import Conv1D, MaxPooling1D, Flatten"
   ]
  },
  {
   "cell_type": "code",
   "execution_count": 15,
   "id": "ed2f78e5-4df4-4d9d-9765-e3a2b063f8f2",
   "metadata": {},
   "outputs": [
    {
     "name": "stdout",
     "output_type": "stream",
     "text": [
      "Epoch 1/20\n",
      "\u001b[1m124/124\u001b[0m \u001b[32m━━━━━━━━━━━━━━━━━━━━\u001b[0m\u001b[37m\u001b[0m \u001b[1m12s\u001b[0m 43ms/step - accuracy: 0.8004 - loss: 0.9639 - val_accuracy: 1.0000 - val_loss: 1.8211e-04\n",
      "Epoch 2/20\n",
      "\u001b[1m124/124\u001b[0m \u001b[32m━━━━━━━━━━━━━━━━━━━━\u001b[0m\u001b[37m\u001b[0m \u001b[1m4s\u001b[0m 29ms/step - accuracy: 1.0000 - loss: 2.9057e-04 - val_accuracy: 1.0000 - val_loss: 7.8195e-05\n",
      "Epoch 3/20\n",
      "\u001b[1m124/124\u001b[0m \u001b[32m━━━━━━━━━━━━━━━━━━━━\u001b[0m\u001b[37m\u001b[0m \u001b[1m4s\u001b[0m 30ms/step - accuracy: 1.0000 - loss: 1.4927e-04 - val_accuracy: 1.0000 - val_loss: 4.6137e-05\n",
      "Epoch 4/20\n",
      "\u001b[1m124/124\u001b[0m \u001b[32m━━━━━━━━━━━━━━━━━━━━\u001b[0m\u001b[37m\u001b[0m \u001b[1m4s\u001b[0m 31ms/step - accuracy: 1.0000 - loss: 8.9609e-05 - val_accuracy: 1.0000 - val_loss: 2.8290e-05\n",
      "Epoch 5/20\n",
      "\u001b[1m124/124\u001b[0m \u001b[32m━━━━━━━━━━━━━━━━━━━━\u001b[0m\u001b[37m\u001b[0m \u001b[1m8s\u001b[0m 57ms/step - accuracy: 1.0000 - loss: 6.4082e-05 - val_accuracy: 1.0000 - val_loss: 1.9148e-05\n",
      "Epoch 6/20\n",
      "\u001b[1m124/124\u001b[0m \u001b[32m━━━━━━━━━━━━━━━━━━━━\u001b[0m\u001b[37m\u001b[0m \u001b[1m7s\u001b[0m 29ms/step - accuracy: 1.0000 - loss: 4.4429e-05 - val_accuracy: 1.0000 - val_loss: 1.4202e-05\n",
      "Epoch 7/20\n",
      "\u001b[1m124/124\u001b[0m \u001b[32m━━━━━━━━━━━━━━━━━━━━\u001b[0m\u001b[37m\u001b[0m \u001b[1m4s\u001b[0m 34ms/step - accuracy: 1.0000 - loss: 3.1790e-05 - val_accuracy: 1.0000 - val_loss: 1.1004e-05\n",
      "Epoch 8/20\n",
      "\u001b[1m124/124\u001b[0m \u001b[32m━━━━━━━━━━━━━━━━━━━━\u001b[0m\u001b[37m\u001b[0m \u001b[1m5s\u001b[0m 40ms/step - accuracy: 1.0000 - loss: 2.4478e-05 - val_accuracy: 1.0000 - val_loss: 8.7796e-06\n",
      "Epoch 9/20\n",
      "\u001b[1m124/124\u001b[0m \u001b[32m━━━━━━━━━━━━━━━━━━━━\u001b[0m\u001b[37m\u001b[0m \u001b[1m5s\u001b[0m 33ms/step - accuracy: 1.0000 - loss: 2.2430e-05 - val_accuracy: 1.0000 - val_loss: 7.1409e-06\n",
      "Epoch 10/20\n",
      "\u001b[1m124/124\u001b[0m \u001b[32m━━━━━━━━━━━━━━━━━━━━\u001b[0m\u001b[37m\u001b[0m \u001b[1m6s\u001b[0m 36ms/step - accuracy: 1.0000 - loss: 1.6466e-05 - val_accuracy: 1.0000 - val_loss: 5.8291e-06\n",
      "Epoch 11/20\n",
      "\u001b[1m124/124\u001b[0m \u001b[32m━━━━━━━━━━━━━━━━━━━━\u001b[0m\u001b[37m\u001b[0m \u001b[1m7s\u001b[0m 58ms/step - accuracy: 1.0000 - loss: 1.4998e-05 - val_accuracy: 1.0000 - val_loss: 4.8527e-06\n",
      "Epoch 12/20\n",
      "\u001b[1m124/124\u001b[0m \u001b[32m━━━━━━━━━━━━━━━━━━━━\u001b[0m\u001b[37m\u001b[0m \u001b[1m10s\u001b[0m 54ms/step - accuracy: 1.0000 - loss: 1.2110e-05 - val_accuracy: 1.0000 - val_loss: 4.0556e-06\n",
      "Epoch 13/20\n",
      "\u001b[1m124/124\u001b[0m \u001b[32m━━━━━━━━━━━━━━━━━━━━\u001b[0m\u001b[37m\u001b[0m \u001b[1m5s\u001b[0m 41ms/step - accuracy: 1.0000 - loss: 9.8139e-06 - val_accuracy: 1.0000 - val_loss: 3.3383e-06\n",
      "Epoch 14/20\n",
      "\u001b[1m124/124\u001b[0m \u001b[32m━━━━━━━━━━━━━━━━━━━━\u001b[0m\u001b[37m\u001b[0m \u001b[1m6s\u001b[0m 49ms/step - accuracy: 1.0000 - loss: 8.1316e-06 - val_accuracy: 1.0000 - val_loss: 2.7470e-06\n",
      "Epoch 15/20\n",
      "\u001b[1m124/124\u001b[0m \u001b[32m━━━━━━━━━━━━━━━━━━━━\u001b[0m\u001b[37m\u001b[0m \u001b[1m6s\u001b[0m 44ms/step - accuracy: 1.0000 - loss: 7.0668e-06 - val_accuracy: 1.0000 - val_loss: 2.3024e-06\n",
      "Epoch 16/20\n",
      "\u001b[1m124/124\u001b[0m \u001b[32m━━━━━━━━━━━━━━━━━━━━\u001b[0m\u001b[37m\u001b[0m \u001b[1m4s\u001b[0m 32ms/step - accuracy: 1.0000 - loss: 6.5687e-06 - val_accuracy: 1.0000 - val_loss: 1.8554e-06\n",
      "Epoch 17/20\n",
      "\u001b[1m124/124\u001b[0m \u001b[32m━━━━━━━━━━━━━━━━━━━━\u001b[0m\u001b[37m\u001b[0m \u001b[1m9s\u001b[0m 60ms/step - accuracy: 1.0000 - loss: 5.1360e-06 - val_accuracy: 1.0000 - val_loss: 1.5686e-06\n",
      "Epoch 18/20\n",
      "\u001b[1m124/124\u001b[0m \u001b[32m━━━━━━━━━━━━━━━━━━━━\u001b[0m\u001b[37m\u001b[0m \u001b[1m11s\u001b[0m 56ms/step - accuracy: 1.0000 - loss: 4.1585e-06 - val_accuracy: 1.0000 - val_loss: 1.3369e-06\n",
      "Epoch 19/20\n",
      "\u001b[1m124/124\u001b[0m \u001b[32m━━━━━━━━━━━━━━━━━━━━\u001b[0m\u001b[37m\u001b[0m \u001b[1m9s\u001b[0m 38ms/step - accuracy: 1.0000 - loss: 3.5855e-06 - val_accuracy: 1.0000 - val_loss: 1.1420e-06\n",
      "Epoch 20/20\n",
      "\u001b[1m124/124\u001b[0m \u001b[32m━━━━━━━━━━━━━━━━━━━━\u001b[0m\u001b[37m\u001b[0m \u001b[1m6s\u001b[0m 44ms/step - accuracy: 1.0000 - loss: 2.9456e-06 - val_accuracy: 1.0000 - val_loss: 1.0005e-06\n"
     ]
    },
    {
     "data": {
      "text/plain": [
       "{'accuracy': [0.9420362710952759,\n",
       "  1.0,\n",
       "  1.0,\n",
       "  1.0,\n",
       "  1.0,\n",
       "  1.0,\n",
       "  1.0,\n",
       "  1.0,\n",
       "  1.0,\n",
       "  1.0,\n",
       "  1.0,\n",
       "  1.0,\n",
       "  1.0,\n",
       "  1.0,\n",
       "  1.0,\n",
       "  1.0,\n",
       "  1.0,\n",
       "  1.0,\n",
       "  1.0,\n",
       "  1.0],\n",
       " 'loss': [0.29949086904525757,\n",
       "  0.00023970332404132932,\n",
       "  0.00013055196905042976,\n",
       "  8.306636300403625e-05,\n",
       "  5.6067008699756116e-05,\n",
       "  4.11599176004529e-05,\n",
       "  3.166084206895903e-05,\n",
       "  2.5077921236515976e-05,\n",
       "  2.0306590158725157e-05,\n",
       "  1.672176949796267e-05,\n",
       "  1.3914472219767049e-05,\n",
       "  1.1691756299114786e-05,\n",
       "  9.821144885791e-06,\n",
       "  8.151407200784888e-06,\n",
       "  6.782558102713665e-06,\n",
       "  5.6575740927655715e-06,\n",
       "  4.714338956546271e-06,\n",
       "  3.99652162741404e-06,\n",
       "  3.4489478366594994e-06,\n",
       "  3.0192868507583626e-06],\n",
       " 'val_accuracy': [1.0,\n",
       "  1.0,\n",
       "  1.0,\n",
       "  1.0,\n",
       "  1.0,\n",
       "  1.0,\n",
       "  1.0,\n",
       "  1.0,\n",
       "  1.0,\n",
       "  1.0,\n",
       "  1.0,\n",
       "  1.0,\n",
       "  1.0,\n",
       "  1.0,\n",
       "  1.0,\n",
       "  1.0,\n",
       "  1.0,\n",
       "  1.0,\n",
       "  1.0,\n",
       "  1.0],\n",
       " 'val_loss': [0.00018210956477560103,\n",
       "  7.819520396878943e-05,\n",
       "  4.613742567016743e-05,\n",
       "  2.828974356816616e-05,\n",
       "  1.9147682905895635e-05,\n",
       "  1.4202038983057719e-05,\n",
       "  1.1004353837051895e-05,\n",
       "  8.779635209066328e-06,\n",
       "  7.140862180676777e-06,\n",
       "  5.829096153320279e-06,\n",
       "  4.85274313177797e-06,\n",
       "  4.055620593135245e-06,\n",
       "  3.338328951940639e-06,\n",
       "  2.7469675387692405e-06,\n",
       "  2.302425855305046e-06,\n",
       "  1.8553636209617252e-06,\n",
       "  1.5685657217545668e-06,\n",
       "  1.3368710369832115e-06,\n",
       "  1.1420308965170989e-06,\n",
       "  1.0004926025430905e-06]}"
      ]
     },
     "execution_count": 15,
     "metadata": {},
     "output_type": "execute_result"
    }
   ],
   "source": [
    "# Define the CNN model structure\n",
    "cnn_model = Sequential([\n",
    "    tf.keras.layers.Input(shape=(preprocessed_df.shape[1] - 1, 1)),  # Input layer\n",
    "    Conv1D(64, kernel_size=3, activation='relu'),  # Convolutional layer\n",
    "    MaxPooling1D(pool_size=2),  # Max pooling layer\n",
    "    Flatten(),  # Flattening layer to convert to 1D\n",
    "    Dense(128, activation='relu'),  # Hidden layer\n",
    "    Dense(64, activation='relu'),  # Hidden layer\n",
    "    Dense(y.shape[1], activation='softmax')  # Output layer for multi-class classification\n",
    "])\n",
    "\n",
    "# Compile the model\n",
    "cnn_model.compile(optimizer='adam', loss='categorical_crossentropy', metrics=['accuracy'])\n",
    "\n",
    "# Reshape the data to add an additional dimension for the CNN\n",
    "X_cnn = X.values.reshape(X.shape[0], X.shape[1], 1)\n",
    "\n",
    "# Train the model\n",
    "cnn_history = cnn_model.fit(X_cnn, y, epochs=20, validation_split=0.2, batch_size=32)\n",
    "\n",
    "# Display the training and validation accuracy/loss\n",
    "cnn_history.history"
   ]
  },
  {
   "cell_type": "code",
   "execution_count": 16,
   "id": "470bf812-60f0-4487-9d90-cf055bcc7c71",
   "metadata": {},
   "outputs": [
    {
     "name": "stdout",
     "output_type": "stream",
     "text": [
      "\u001b[1m156/156\u001b[0m \u001b[32m━━━━━━━━━━━━━━━━━━━━\u001b[0m\u001b[37m\u001b[0m \u001b[1m1s\u001b[0m 8ms/step - accuracy: 1.0000 - loss: 3.5229e-06\n",
      "Test Accuracy: 1.0\n",
      "Test Loss: 2.447097358526662e-06\n"
     ]
    }
   ],
   "source": [
    "# Evaluate the model on the test set\n",
    "test_loss_cnn, test_accuracy_cnn = cnn_model.evaluate(X_cnn, y)\n",
    "\n",
    "# Display the test accuracy and loss\n",
    "print(f\"Test Accuracy: {test_accuracy_cnn}\")\n",
    "print(f\"Test Loss: {test_loss_cnn}\")\n"
   ]
  },
  {
   "cell_type": "markdown",
   "id": "4f172ec9-911c-41a0-9ab3-4c817ee0098b",
   "metadata": {},
   "source": [
    "\n",
    "## Recurrent Neural Network (RNN) with LSTM Units Model Summary\n",
    "**Pro:** Excellent for capturing temporal dependencies and sequences in data, which can be crucial if symptoms appear in a specific order or over time.\n",
    "\n",
    "**Con:** Can be slower to train compared to other models due to the sequential nature of processing.\n",
    "\n",
    "**Use Case:** Best suited for scenarios where the order or sequence of symptoms matters in predicting diseases."
   ]
  },
  {
   "cell_type": "code",
   "execution_count": 17,
   "id": "b50c5fe8-0886-4000-ad3c-0b038c56077a",
   "metadata": {},
   "outputs": [],
   "source": [
    "# Import libraries\n",
    "from tensorflow.keras.optimizers import Adam\n",
    "from tensorflow.keras.layers import LSTM\n",
    "from tensorflow.keras import backend as K"
   ]
  },
  {
   "cell_type": "code",
   "execution_count": 18,
   "id": "f6a7b82c-8ac1-4f4f-b09a-8f2724d2dad9",
   "metadata": {},
   "outputs": [
    {
     "name": "stdout",
     "output_type": "stream",
     "text": [
      "Epoch 1/20\n",
      "\u001b[1m124/124\u001b[0m \u001b[32m━━━━━━━━━━━━━━━━━━━━\u001b[0m\u001b[37m\u001b[0m \u001b[1m83s\u001b[0m 586ms/step - accuracy: 0.0398 - loss: 3.7022 - val_accuracy: 0.0242 - val_loss: 3.7136\n",
      "Epoch 2/20\n",
      "\u001b[1m124/124\u001b[0m \u001b[32m━━━━━━━━━━━━━━━━━━━━\u001b[0m\u001b[37m\u001b[0m \u001b[1m70s\u001b[0m 485ms/step - accuracy: 0.0145 - loss: 3.7136 - val_accuracy: 0.0242 - val_loss: 3.7136\n",
      "Epoch 3/20\n",
      "\u001b[1m124/124\u001b[0m \u001b[32m━━━━━━━━━━━━━━━━━━━━\u001b[0m\u001b[37m\u001b[0m \u001b[1m78s\u001b[0m 453ms/step - accuracy: 0.0229 - loss: 3.7136 - val_accuracy: 0.0242 - val_loss: 3.7136\n",
      "Epoch 4/20\n",
      "\u001b[1m124/124\u001b[0m \u001b[32m━━━━━━━━━━━━━━━━━━━━\u001b[0m\u001b[37m\u001b[0m \u001b[1m56s\u001b[0m 453ms/step - accuracy: 0.0189 - loss: 3.7136 - val_accuracy: 0.0242 - val_loss: 3.7136\n",
      "Epoch 5/20\n",
      "\u001b[1m124/124\u001b[0m \u001b[32m━━━━━━━━━━━━━━━━━━━━\u001b[0m\u001b[37m\u001b[0m \u001b[1m62s\u001b[0m 497ms/step - accuracy: 0.0183 - loss: 3.7136 - val_accuracy: 0.0242 - val_loss: 3.7136\n",
      "Epoch 6/20\n",
      "\u001b[1m124/124\u001b[0m \u001b[32m━━━━━━━━━━━━━━━━━━━━\u001b[0m\u001b[37m\u001b[0m \u001b[1m75s\u001b[0m 442ms/step - accuracy: 0.0187 - loss: 3.7136 - val_accuracy: 0.0242 - val_loss: 3.7136\n",
      "Epoch 7/20\n",
      "\u001b[1m124/124\u001b[0m \u001b[32m━━━━━━━━━━━━━━━━━━━━\u001b[0m\u001b[37m\u001b[0m \u001b[1m48s\u001b[0m 389ms/step - accuracy: 0.0258 - loss: 3.7136 - val_accuracy: 0.0242 - val_loss: 3.7136\n",
      "Epoch 8/20\n",
      "\u001b[1m124/124\u001b[0m \u001b[32m━━━━━━━━━━━━━━━━━━━━\u001b[0m\u001b[37m\u001b[0m \u001b[1m82s\u001b[0m 390ms/step - accuracy: 0.0246 - loss: 3.7136 - val_accuracy: 0.0242 - val_loss: 3.7136\n",
      "Epoch 9/20\n",
      "\u001b[1m124/124\u001b[0m \u001b[32m━━━━━━━━━━━━━━━━━━━━\u001b[0m\u001b[37m\u001b[0m \u001b[1m81s\u001b[0m 383ms/step - accuracy: 0.0279 - loss: 3.7136 - val_accuracy: 0.0242 - val_loss: 3.7136\n",
      "Epoch 10/20\n",
      "\u001b[1m124/124\u001b[0m \u001b[32m━━━━━━━━━━━━━━━━━━━━\u001b[0m\u001b[37m\u001b[0m \u001b[1m47s\u001b[0m 380ms/step - accuracy: 0.0203 - loss: 3.7136 - val_accuracy: 0.0242 - val_loss: 3.7136\n",
      "Epoch 11/20\n",
      "\u001b[1m124/124\u001b[0m \u001b[32m━━━━━━━━━━━━━━━━━━━━\u001b[0m\u001b[37m\u001b[0m \u001b[1m79s\u001b[0m 356ms/step - accuracy: 0.0240 - loss: 3.7136 - val_accuracy: 0.0242 - val_loss: 3.7136\n",
      "Epoch 12/20\n",
      "\u001b[1m124/124\u001b[0m \u001b[32m━━━━━━━━━━━━━━━━━━━━\u001b[0m\u001b[37m\u001b[0m \u001b[1m44s\u001b[0m 355ms/step - accuracy: 0.0258 - loss: 3.7136 - val_accuracy: 0.0242 - val_loss: 3.7136\n",
      "Epoch 13/20\n",
      "\u001b[1m124/124\u001b[0m \u001b[32m━━━━━━━━━━━━━━━━━━━━\u001b[0m\u001b[37m\u001b[0m \u001b[1m87s\u001b[0m 394ms/step - accuracy: 0.0210 - loss: 3.7136 - val_accuracy: 0.0242 - val_loss: 3.7136\n",
      "Epoch 14/20\n",
      "\u001b[1m124/124\u001b[0m \u001b[32m━━━━━━━━━━━━━━━━━━━━\u001b[0m\u001b[37m\u001b[0m \u001b[1m45s\u001b[0m 360ms/step - accuracy: 0.0228 - loss: 3.7136 - val_accuracy: 0.0242 - val_loss: 3.7136\n",
      "Epoch 15/20\n",
      "\u001b[1m124/124\u001b[0m \u001b[32m━━━━━━━━━━━━━━━━━━━━\u001b[0m\u001b[37m\u001b[0m \u001b[1m44s\u001b[0m 358ms/step - accuracy: 0.0195 - loss: 3.7136 - val_accuracy: 0.0242 - val_loss: 3.7136\n",
      "Epoch 16/20\n",
      "\u001b[1m124/124\u001b[0m \u001b[32m━━━━━━━━━━━━━━━━━━━━\u001b[0m\u001b[37m\u001b[0m \u001b[1m1716s\u001b[0m 14s/step - accuracy: 0.0212 - loss: 3.7136 - val_accuracy: 0.0242 - val_loss: 3.7136\n",
      "Epoch 17/20\n",
      "\u001b[1m124/124\u001b[0m \u001b[32m━━━━━━━━━━━━━━━━━━━━\u001b[0m\u001b[37m\u001b[0m \u001b[1m97s\u001b[0m 764ms/step - accuracy: 0.0209 - loss: 3.7136 - val_accuracy: 0.0242 - val_loss: 3.7136\n",
      "Epoch 18/20\n",
      "\u001b[1m124/124\u001b[0m \u001b[32m━━━━━━━━━━━━━━━━━━━━\u001b[0m\u001b[37m\u001b[0m \u001b[1m93s\u001b[0m 373ms/step - accuracy: 0.0168 - loss: 3.7136 - val_accuracy: 0.0242 - val_loss: 3.7136\n",
      "Epoch 19/20\n",
      "\u001b[1m124/124\u001b[0m \u001b[32m━━━━━━━━━━━━━━━━━━━━\u001b[0m\u001b[37m\u001b[0m \u001b[1m48s\u001b[0m 387ms/step - accuracy: 0.0222 - loss: 3.7136 - val_accuracy: 0.0242 - val_loss: 3.7136\n",
      "Epoch 20/20\n",
      "\u001b[1m124/124\u001b[0m \u001b[32m━━━━━━━━━━━━━━━━━━━━\u001b[0m\u001b[37m\u001b[0m \u001b[1m46s\u001b[0m 373ms/step - accuracy: 0.0255 - loss: 3.7136 - val_accuracy: 0.0242 - val_loss: 3.7136\n",
      "\u001b[1m156/156\u001b[0m \u001b[32m━━━━━━━━━━━━━━━━━━━━\u001b[0m\u001b[37m\u001b[0m \u001b[1m21s\u001b[0m 135ms/step - accuracy: 0.0282 - loss: 3.7135\n",
      "Test Accuracy: 0.024390242993831635\n",
      "Test Loss: 3.713573694229126\n"
     ]
    }
   ],
   "source": [
    "# Define the RNN with LSTM model structure\n",
    "def create_lstm_model():\n",
    "    model = Sequential([\n",
    "        tf.keras.layers.Input(shape=(preprocessed_df.shape[1] - 1, 1)),  # Input layer\n",
    "        LSTM(128, activation='relu', return_sequences=True),  # LSTM layer with return sequences\n",
    "        LSTM(64, activation='relu'),  # LSTM layer\n",
    "        Dense(64, activation='relu'),  # Hidden layer\n",
    "        Dense(y.shape[1], activation='softmax')  # Output layer for multi-class classification\n",
    "    ])\n",
    "    return model\n",
    "\n",
    "# Create and compile the model\n",
    "lstm_model = create_lstm_model()\n",
    "optimizer = Adam(learning_rate=0.0001, clipvalue=1.0)  # Adjusted learning rate and gradient clipping\n",
    "lstm_model.compile(optimizer=optimizer, loss='categorical_crossentropy', metrics=['accuracy'])\n",
    "\n",
    "# Reshape the data to add an additional dimension for the RNN\n",
    "X_lstm = X.values.reshape(X.shape[0], X.shape[1], 1)\n",
    "\n",
    "# Train the model with adjusted parameters\n",
    "lstm_history = lstm_model.fit(X_lstm, y, epochs=20, validation_split=0.2, batch_size=32)\n",
    "\n",
    "# Evaluate the model on the test set\n",
    "test_loss_lstm, test_accuracy_lstm = lstm_model.evaluate(X_lstm, y)\n",
    "\n",
    "# Display the test accuracy and loss\n",
    "print(f\"Test Accuracy: {test_accuracy_lstm}\")\n",
    "print(f\"Test Loss: {test_loss_lstm}\")"
   ]
  },
  {
   "cell_type": "code",
   "execution_count": 19,
   "id": "9899877b-e869-4cf2-9960-258e7b9c569a",
   "metadata": {},
   "outputs": [
    {
     "name": "stdout",
     "output_type": "stream",
     "text": [
      "\u001b[1m156/156\u001b[0m \u001b[32m━━━━━━━━━━━━━━━━━━━━\u001b[0m\u001b[37m\u001b[0m \u001b[1m23s\u001b[0m 149ms/step - accuracy: 0.0282 - loss: 3.7135\n",
      "Test Accuracy: 0.024390242993831635\n",
      "Test Loss: 3.713573694229126\n"
     ]
    }
   ],
   "source": [
    "# Evaluate the model on the test set\n",
    "test_loss_lstm, test_accuracy_lstm = lstm_model.evaluate(X_lstm, y)\n",
    "\n",
    "# Display the test accuracy and loss\n",
    "print(f\"Test Accuracy: {test_accuracy_lstm}\")\n",
    "print(f\"Test Loss: {test_loss_lstm}\")\n"
   ]
  },
  {
   "cell_type": "markdown",
   "id": "f92f6787-3a41-4849-9dac-1356247cc09b",
   "metadata": {},
   "source": [
    "## Model Performance Summary\n",
    "\n",
    "After training and evaluating the Multi-Layer Perceptron (MLP), Convolutional Neural Network (CNN), and Recurrent Neural Network (RNN) with LSTM models on the dataset, the following results were observed:\n",
    "\n",
    "- **Multi-Layer Perceptron (MLP):**  \n",
    "  The MLP model showed good performance, with both training and testing accuracy of 100%. This indicates that the model was able to learn the patterns in the training data effectively and generalize relatively well to unseen data. The model's loss was at 5.27.\n",
    "\n",
    "- **Convolutional Neural Network (CNN):**  \n",
    "  The CNN model also showed strong performed, with both training and testing accuracy 100%. With lower loss at 3.02, it was more effective than the MLP in generalizing to new examples.  It was the best performer among the models tested.\n",
    "\n",
    "- **Recurrent Neural Network (RNN) with LSTM:**  \n",
    "  The LSTM model was modified several times to improve its performance. Despite these modifications, the LSTM performed poorly, with a test accuracy of only 2.43% and a high test loss. This suggests that the LSTM struggled to learn meaningful patterns from the data, likely due to the nature of the dataset, which may not be well-suited for a sequential model like LSTM.\n",
    "\n",
    "### Conclusion:\n",
    "Based on the results, the **Convolutional Neural Network (CNN)** model performed the best, showing strong accuracy and low loss. The **Multi-Layer Perceptron (MLP)** also performed reasonably well but had a slightly higher test loss. The **Recurrent Neural Network (RNN) with LSTM**, despite several modifications, did not perform well, indicating that it might not be the right choice for this dataset.\n"
   ]
  },
  {
   "cell_type": "markdown",
   "id": "dc49a653",
   "metadata": {},
   "source": [
    "## Saving the CNN Model"
   ]
  },
  {
   "cell_type": "code",
   "execution_count": 20,
   "id": "0d8e873e",
   "metadata": {},
   "outputs": [
    {
     "name": "stderr",
     "output_type": "stream",
     "text": [
      "WARNING:absl:You are saving your model as an HDF5 file via `model.save()` or `keras.saving.save_model(model)`. This file format is considered legacy. We recommend using instead the native Keras format, e.g. `model.save('my_model.keras')` or `keras.saving.save_model(model, 'my_model.keras')`. \n"
     ]
    },
    {
     "name": "stdout",
     "output_type": "stream",
     "text": [
      "CNN model saved successfully in the 'Project 3' folder.\n"
     ]
    }
   ],
   "source": [
    "# Save the trained CNN model\n",
    "cnn_model.save('cnn_model.h5')\n",
    "\n",
    "# Confirm the model has been saved successfully\n",
    "print(\"CNN model saved successfully in the 'Project 3' folder.\")"
   ]
  },
  {
   "cell_type": "markdown",
   "id": "a957b395-8928-4a46-aa0d-2974505935cc",
   "metadata": {},
   "source": [
    "## Saving the MLP Model"
   ]
  },
  {
   "cell_type": "code",
   "execution_count": 21,
   "id": "f9201f29-01b5-4360-a7a5-f3afd0b3f2da",
   "metadata": {},
   "outputs": [
    {
     "name": "stderr",
     "output_type": "stream",
     "text": [
      "WARNING:absl:You are saving your model as an HDF5 file via `model.save()` or `keras.saving.save_model(model)`. This file format is considered legacy. We recommend using instead the native Keras format, e.g. `model.save('my_model.keras')` or `keras.saving.save_model(model, 'my_model.keras')`. \n"
     ]
    },
    {
     "name": "stdout",
     "output_type": "stream",
     "text": [
      "MLP model saved successfully in the 'Project 3' folder.\n"
     ]
    }
   ],
   "source": [
    "# Save the trained MLP model\n",
    "mlp_model.save('mlp_model.h5')\n",
    "\n",
    "# Confirm the model has been saved successfully\n",
    "print(\"MLP model saved successfully in the 'Project 3' folder.\")\n"
   ]
  },
  {
   "cell_type": "markdown",
   "id": "9b03ba3b-b393-4913-911c-440cca30320f",
   "metadata": {},
   "source": [
    "## Preliminary Streamlit App Development "
   ]
  },
  {
   "cell_type": "code",
   "execution_count": 22,
   "id": "c22201ac-90a9-4564-9a08-6906122dec46",
   "metadata": {},
   "outputs": [
    {
     "ename": "TypeError",
     "evalue": "'<' not supported between instances of 'float' and 'str'",
     "output_type": "error",
     "traceback": [
      "\u001b[1;31m---------------------------------------------------------------------------\u001b[0m",
      "\u001b[1;31mTypeError\u001b[0m                                 Traceback (most recent call last)",
      "Cell \u001b[1;32mIn[22], line 21\u001b[0m\n\u001b[0;32m     18\u001b[0m unique_symptoms\u001b[38;5;241m.\u001b[39mdiscard(\u001b[38;5;241m0\u001b[39m)\n\u001b[0;32m     20\u001b[0m \u001b[38;5;66;03m# Convert to a sorted list for dropdown use\u001b[39;00m\n\u001b[1;32m---> 21\u001b[0m symptoms_list \u001b[38;5;241m=\u001b[39m \u001b[38;5;28;43msorted\u001b[39;49m\u001b[43m(\u001b[49m\u001b[43munique_symptoms\u001b[49m\u001b[43m)\u001b[49m\n\u001b[0;32m     23\u001b[0m \u001b[38;5;66;03m# Display the list of unique symptoms\u001b[39;00m\n\u001b[0;32m     24\u001b[0m symptoms_list\n",
      "\u001b[1;31mTypeError\u001b[0m: '<' not supported between instances of 'float' and 'str'"
     ]
    }
   ],
   "source": [
    "# Code to Extract Symptoms\n",
    "\n",
    "import pandas as pd\n",
    "import numpy as np\n",
    "\n",
    "# Load the dataset\n",
    "df = pd.read_csv('disease_symptoms.csv')\n",
    "\n",
    "# Extract all unique symptoms across all symptom columns\n",
    "symptom_columns = df.columns[1:]  # Exclude the 'Disease' column\n",
    "unique_symptoms = set()\n",
    "\n",
    "for col in symptom_columns:\n",
    "    unique_symptoms.update(df[col].unique())\n",
    "\n",
    "\n",
    "# Remove any '0' values from the symptoms\n",
    "unique_symptoms.discard(0)\n",
    "\n",
    "# Convert to a sorted list for dropdown use\n",
    "symptoms_list = sorted(unique_symptoms)\n",
    "\n",
    "# Display the list of unique symptoms\n",
    "symptoms_list\n"
   ]
  },
  {
   "cell_type": "code",
   "execution_count": null,
   "id": "54903038-788e-4677-ad8f-6943774c61d6",
   "metadata": {},
   "outputs": [],
   "source": []
  }
 ],
 "metadata": {
  "kernelspec": {
   "display_name": "dev",
   "language": "python",
   "name": "python3"
  },
  "language_info": {
   "codemirror_mode": {
    "name": "ipython",
    "version": 3
   },
   "file_extension": ".py",
   "mimetype": "text/x-python",
   "name": "python",
   "nbconvert_exporter": "python",
   "pygments_lexer": "ipython3",
   "version": "3.12.4"
  }
 },
 "nbformat": 4,
 "nbformat_minor": 5
}
