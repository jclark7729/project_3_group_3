{
  "nbformat": 4,
  "nbformat_minor": 0,
  "metadata": {
    "colab": {
      "provenance": []
    },
    "kernelspec": {
      "name": "python3",
      "display_name": "Python 3"
    },
    "language_info": {
      "name": "python"
    }
  },
  "cells": [
    {
      "cell_type": "code",
      "execution_count": 5,
      "metadata": {
        "id": "k4s96ikCWJ2D"
      },
      "outputs": [],
      "source": [
        "# Create an application that will allow users to input symptoms, which can then be paired with possible diseases and offer treatements\n",
        "# Will use gradio to build this app\n",
        "\n",
        "%%capture\n",
        "\n",
        "!pip install gradio\n",
        "!pip intall nltk\n",
        "!pip install transformers\n",
        "!pip install torch\n",
        "!pip install sentencepiece\n",
        "!pip install tensorflow\n",
        "!pip install tensorflow_hub\n",
        "!pip install tensorflow_text\n"
      ]
    },
    {
      "cell_type": "code",
      "source": [
        "# Imports needed for this application\n",
        "import gradio as gr\n",
        "import nltk\n",
        "import transformers\n",
        "import torch\n",
        "import sentencepiece\n",
        "import tensorflow\n",
        "import tensorflow_hub\n",
        "import tensorflow_text\n",
        "import pandas as pd\n",
        "import numpy as np\n",
        "import matplotlib.pyplot as plt\n",
        "import seaborn as sns\n"
      ],
      "metadata": {
        "id": "DBhc0mcPWqf7"
      },
      "execution_count": 7,
      "outputs": []
    },
    {
      "cell_type": "code",
      "source": [
        "# Here we will pull in any patient images if available\n",
        "# Not really sure where we should/could pull in a patient's images so this is just a placeholder for now\n",
        "pull_patient_images = True"
      ],
      "metadata": {
        "id": "_s8Y3G5_ZTWV"
      },
      "execution_count": null,
      "outputs": []
    },
    {
      "cell_type": "code",
      "source": [
        "# Download required NLTK resources (if not already downloaded)\n",
        "nltk.download('punkt')\n",
        "nltk.download('stopwords')\n",
        "\n",
        "from nltk.tokenize import word_tokenize\n",
        "from nltk.corpus import stopwords\n",
        "\n",
        "def extract_keywords(patient_feedback):\n",
        "    \"\"\"Extracts keywords from patient feedback using NLTK.\"\"\"\n",
        "\n",
        "    # Tokenize the feedback text\n",
        "    tokens = word_tokenize(patient_feedback.lower())\n",
        "\n",
        "    # Remove stop words (common words like \"the\", \"a\", \"is\", etc.)\n",
        "    stop_words = set(stopwords.words('english'))\n",
        "    filtered_tokens = [w for w in tokens if not w.lower() in stop_words and w.isalnum()]\n",
        "\n",
        "    # Add more sophisticated keyword extraction techniques if needed\n",
        "    # (e.g., using part-of-speech tagging, named entity recognition, etc.)\n",
        "\n",
        "    return filtered_tokens\n",
        "\n",
        "def suggest_diagnosis(keywords):\n",
        "    \"\"\"Suggests possible diagnoses based on extracted keywords.\"\"\"\n",
        "    # Implement logic to compare keywords with disease database\n",
        "    # and return potential diagnoses\n",
        "    # ... (Your logic here) ...\n",
        "    return possible_diagnoses\n",
        "\n",
        "# Gradio Interface\n",
        "iface = gr.Interface(\n",
        "    fn=suggest_diagnosis,\n",
        "    inputs=gr.Textbox(lines=5, placeholder=\"Describe your symptoms...\"),\n",
        "    outputs=\"text\",\n",
        "    title=\"Symptom Checker\",\n",
        "    description=\"Enter your symptoms, and we'll suggest possible diagnoses.\",\n",
        ")\n",
        "\n",
        "iface.launch()"
      ],
      "metadata": {
        "colab": {
          "base_uri": "https://localhost:8080/",
          "height": 715
        },
        "id": "qkgDIHSjW6Sa",
        "outputId": "d59d541b-73aa-4243-a757-d4ec39f06a43"
      },
      "execution_count": 9,
      "outputs": [
        {
          "output_type": "stream",
          "name": "stderr",
          "text": [
            "[nltk_data] Downloading package punkt to /root/nltk_data...\n",
            "[nltk_data]   Package punkt is already up-to-date!\n",
            "[nltk_data] Downloading package stopwords to /root/nltk_data...\n",
            "[nltk_data]   Package stopwords is already up-to-date!\n"
          ]
        },
        {
          "output_type": "stream",
          "name": "stdout",
          "text": [
            "Running Gradio in a Colab notebook requires sharing enabled. Automatically setting `share=True` (you can turn this off by setting `share=False` in `launch()` explicitly).\n",
            "\n",
            "Colab notebook detected. To show errors in colab notebook, set debug=True in launch()\n",
            "* Running on public URL: https://55333c1c19875c1099.gradio.live\n",
            "\n",
            "This share link expires in 72 hours. For free permanent hosting and GPU upgrades, run `gradio deploy` from the terminal in the working directory to deploy to Hugging Face Spaces (https://huggingface.co/spaces)\n"
          ]
        },
        {
          "output_type": "display_data",
          "data": {
            "text/plain": [
              "<IPython.core.display.HTML object>"
            ],
            "text/html": [
              "<div><iframe src=\"https://55333c1c19875c1099.gradio.live\" width=\"100%\" height=\"500\" allow=\"autoplay; camera; microphone; clipboard-read; clipboard-write;\" frameborder=\"0\" allowfullscreen></iframe></div>"
            ]
          },
          "metadata": {}
        },
        {
          "output_type": "execute_result",
          "data": {
            "text/plain": []
          },
          "metadata": {},
          "execution_count": 9
        }
      ]
    },
    {
      "cell_type": "markdown",
      "source": [
        "In the section below, we will use the patient's diagnosis to suggest possible treatments.\n",
        "First, we have to load the treatment database that we have selected (name it here).  Then, we will run a process to link the disease to a Treatment  using Pandas Dataframe (for CSV)"
      ],
      "metadata": {
        "id": "J4jEvV2GdmEI"
      }
    },
    {
      "cell_type": "code",
      "source": [
        "# View patient responses\n",
        "patient_symptoms\n",
        "for symptom in patient_symptoms:\n",
        "  print(symptom)"
      ],
      "metadata": {
        "id": "cLW3KkfZXzI_"
      },
      "execution_count": null,
      "outputs": []
    },
    {
      "cell_type": "code",
      "source": [
        "#  Load and Access Treatment Database\n",
        "treatment_database = pd.read_csv('treatment_database.csv')\n",
        "treatment_database.head()"
      ],
      "metadata": {
        "id": "f_YfyQEPZBIO"
      },
      "execution_count": null,
      "outputs": []
    },
    {
      "cell_type": "code",
      "source": [
        "# File import\n",
        "import sqlite3\n",
        "        conn = sqlite3.connect('treatment_database.db')\n",
        "        cursor = conn.cursor()\n",
        "        cursor."
      ],
      "metadata": {
        "id": "3uMXu577eWOS"
      },
      "execution_count": null,
      "outputs": []
    },
    {
      "cell_type": "code",
      "source": [
        "# Link the disease to a possible treatment\n",
        "def get_treatments(diagnosed_disease):\n",
        "        treatments = treatment_data[treatment_data['disease'] == diagnosed_disease]['treatment'].tolist()\n",
        "        if treatments:\n",
        "            return treatments\n",
        "        else:\n",
        "            return \"No treatments found for this disease.\""
      ],
      "metadata": {
        "id": "13sWuWizehtq"
      },
      "execution_count": null,
      "outputs": []
    }
  ]
}